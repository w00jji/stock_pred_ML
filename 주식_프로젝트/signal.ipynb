{
 "cells": [
  {
   "cell_type": "markdown",
   "id": "7341a72f-e396-4e3d-9043-964563607d70",
   "metadata": {
    "jp-MarkdownHeadingCollapsed": true
   },
   "source": [
    "### 연습"
   ]
  },
  {
   "cell_type": "code",
   "execution_count": 2,
   "id": "d7b0eeec-9842-4961-a0c7-8118ea1939d3",
   "metadata": {},
   "outputs": [],
   "source": [
    "import FinanceDataReader as fdr\n",
    "import numpy as np\n",
    "import pandas as pd\n",
    "from sklearn.model_selection import train_test_split\n",
    "from sklearn.metrics import accuracy_score, confusion_matrix, classification_report\n",
    "import xgboost as xgb\n",
    "\n",
    "# KOSPI 데이터에서 주식 코드 추출\n",
    "# KOSPI = fdr.StockListing('KOSPI')\n",
    "# stock_codes = KOSPI['Code'].tolist()\n",
    "\n",
    "# 사용하고 싶은 주식 코드의 수를 제한 \n",
    "# stock_codes = stock_codes[:100]\n",
    "# 분석할 주식 코드 목록\n",
    "stock_codes = ['041190', '015750']\n",
    "\n",
    "# 빈 리스트를 만들어서 모든 주식 데이터를 통합할 준비\n",
    "X = []\n",
    "Y = []\n",
    "\n",
    "# 각 주식 코드에 대해 데이터 불러오고 처리\n",
    "for code in stock_codes:\n",
    "    try:\n",
    "        df = fdr.DataReader(code).dropna()  # 데이터 불러오기 및 결측값 제거\n",
    "        \n",
    "        # 주식 데이터가 비어있지 않은 경우에만 처리\n",
    "        if not df.empty:\n",
    "            close_prices = df['Close'].values\n",
    "\n",
    "            # 지수 이동 평균 (EMA) 및 MACD 계산\n",
    "            ema_12 = pd.Series(close_prices).ewm(span=12, adjust=False).mean().values\n",
    "            ema_26 = pd.Series(close_prices).ewm(span=26, adjust=False).mean().values\n",
    "            ema_50 = pd.Series(close_prices).ewm(span=50, adjust=False).mean().values\n",
    "            ema_200 = pd.Series(close_prices).ewm(span=200, adjust=False).mean().values\n",
    "\n",
    "            macd = ema_12 - ema_26\n",
    "            signal_line = pd.Series(macd).ewm(span=9, adjust=False).mean().values\n",
    "\n",
    "            # 윈도우 사이즈와 예측 기간 설정\n",
    "            window_size = 10  # 윈도우 사이즈 (일수)\n",
    "            next_date = 1     # 예측 기간 (일수)\n",
    "\n",
    "            for i in range(len(close_prices) - window_size - next_date):\n",
    "                window = close_prices[i:i + window_size]\n",
    "                \n",
    "                # EMA 및 MACD 지표 추가\n",
    "                ema_window = ema_50[i:i + window_size]\n",
    "                macd_window = macd[i:i + window_size]\n",
    "                signal_window = signal_line[i:i + window_size]\n",
    "                \n",
    "                # 특성 벡터 생성\n",
    "                features = np.concatenate([ema_window, macd_window, signal_window])\n",
    "                \n",
    "                # Signals 계산\n",
    "                signals = [2]  # 초기값 (교차 없음)\n",
    "                for j in range(1, len(macd)):\n",
    "                    if ((macd[j-1] < signal_line[j-1]) and (macd[j] > signal_line[j])) or \\\n",
    "                       ((ema_50[j-1] < ema_200[j-1]) and (ema_50[j] > ema_200[j])):\n",
    "                        signals.append(1)  # 매수 신호\n",
    "                    elif ((macd[j-1] > signal_line[j-1]) and (macd[j] < signal_line[j])) or \\\n",
    "                         ((ema_50[j-1] > ema_200[j-1]) and (ema_50[j] < ema_200[j])):\n",
    "                        signals.append(0)  # 매도 신호\n",
    "                    else:\n",
    "                        signals.append(2)  # 교차 없음\n",
    "                \n",
    "                # 타겟 값을 현재 윈도우의 마지막 인덱스에 대해 설정\n",
    "                if i + window_size + next_date < len(signals):\n",
    "                    target = signals[i + window_size + next_date]\n",
    "                    X.append(features)\n",
    "                    Y.append(target)\n",
    "                \n",
    "    except Exception as e:\n",
    "        print(f\"Error processing code {code}: {e}\")\n",
    "\n",
    "# X와 Y를 numpy 배열로 변환\n",
    "X = np.array(X)\n",
    "Y = np.array(Y)\n",
    "\n",
    "\n"
   ]
  },
  {
   "cell_type": "code",
   "execution_count": 8,
   "id": "12a7d0f5-622c-4aff-b06c-4674ebc85b5c",
   "metadata": {},
   "outputs": [
    {
     "name": "stderr",
     "output_type": "stream",
     "text": [
      "C:\\Users\\campus4D046\\anaconda3\\Lib\\site-packages\\xgboost\\core.py:158: UserWarning: [15:26:18] WARNING: C:\\buildkite-agent\\builds\\buildkite-windows-cpu-autoscaling-group-i-0015a694724fa8361-1\\xgboost\\xgboost-ci-windows\\src\\learner.cc:740: \n",
      "Parameters: { \"scale_pos_weight\" } are not used.\n",
      "\n",
      "  warnings.warn(smsg, UserWarning)\n"
     ]
    },
    {
     "name": "stdout",
     "output_type": "stream",
     "text": [
      "Accuracy: 0.904642409033877\n",
      "Confusion Matrix:\n",
      "[[   0    0  111]\n",
      " [   0    0  117]\n",
      " [   0    0 2163]]\n",
      "Classification Report:\n",
      "              precision    recall  f1-score   support\n",
      "\n",
      "           0       0.00      0.00      0.00       111\n",
      "           1       0.00      0.00      0.00       117\n",
      "           2       0.90      1.00      0.95      2163\n",
      "\n",
      "    accuracy                           0.90      2391\n",
      "   macro avg       0.30      0.33      0.32      2391\n",
      "weighted avg       0.82      0.90      0.86      2391\n",
      "\n",
      "Sample Predictions:\n",
      "Actual: 2, Predicted: 2\n",
      "Actual: 2, Predicted: 2\n",
      "Actual: 2, Predicted: 2\n",
      "Actual: 2, Predicted: 2\n",
      "Actual: 2, Predicted: 2\n"
     ]
    },
    {
     "name": "stderr",
     "output_type": "stream",
     "text": [
      "C:\\Users\\campus4D046\\anaconda3\\Lib\\site-packages\\sklearn\\metrics\\_classification.py:1344: UndefinedMetricWarning: Precision and F-score are ill-defined and being set to 0.0 in labels with no predicted samples. Use `zero_division` parameter to control this behavior.\n",
      "  _warn_prf(average, modifier, msg_start, len(result))\n",
      "C:\\Users\\campus4D046\\anaconda3\\Lib\\site-packages\\sklearn\\metrics\\_classification.py:1344: UndefinedMetricWarning: Precision and F-score are ill-defined and being set to 0.0 in labels with no predicted samples. Use `zero_division` parameter to control this behavior.\n",
      "  _warn_prf(average, modifier, msg_start, len(result))\n",
      "C:\\Users\\campus4D046\\anaconda3\\Lib\\site-packages\\sklearn\\metrics\\_classification.py:1344: UndefinedMetricWarning: Precision and F-score are ill-defined and being set to 0.0 in labels with no predicted samples. Use `zero_division` parameter to control this behavior.\n",
      "  _warn_prf(average, modifier, msg_start, len(result))\n"
     ]
    }
   ],
   "source": [
    "# 데이터 분할 (훈련 데이터와 테스트 데이터)\n",
    "X_train, X_test, Y_train, Y_test = train_test_split(X, Y, test_size=0.2, shuffle=True, random_state=42)\n",
    "\n",
    "# XGBoost 분류 모델 생성 및 학습\n",
    "model = xgb.XGBClassifier(\n",
    "    objective='binary:logistic', \n",
    "    eval_metric='logloss', \n",
    "    learning_rate=0.1, \n",
    "    n_estimators=100, \n",
    "    max_depth=5, \n",
    "    subsample=0.8, \n",
    "    colsample_bytree=0.8,\n",
    "    scale_pos_weight=1,\n",
    "    random_state=42\n",
    ")\n",
    "model.fit(X_train, Y_train)\n",
    "\n",
    "# 테스트 데이터에 대해 예측 수행\n",
    "Y_pred = model.predict(X_test)\n",
    "\n",
    "# 모델 평가\n",
    "accuracy = accuracy_score(Y_test, Y_pred)\n",
    "print(f'Accuracy: {accuracy}')\n",
    "\n",
    "conf_matrix = confusion_matrix(Y_test, Y_pred)\n",
    "print(f'Confusion Matrix:\\n{conf_matrix}')\n",
    "\n",
    "class_report = classification_report(Y_test, Y_pred)\n",
    "print(f'Classification Report:\\n{class_report}')\n",
    "\n",
    "# 예측 결과 확인\n",
    "print('Sample Predictions:')\n",
    "for i in range(min(5, len(Y_pred))):\n",
    "    print(f'Actual: {Y_test[i]}, Predicted: {Y_pred[i]}')\n"
   ]
  },
  {
   "cell_type": "code",
   "execution_count": 10,
   "id": "fdd17235-97f9-4c9f-bb58-bd5d95c6e8bc",
   "metadata": {},
   "outputs": [
    {
     "data": {
      "image/png": "[encoded data removed]",
      "text/plain": [
       "<Figure size 1400x700 with 1 Axes>"
      ]
     },
     "metadata": {},
     "output_type": "display_data"
    }
   ],
   "source": [
    "# EMA(지수이동평균) 추가하기\n",
    "import FinanceDataReader as fdr\n",
    "import pandas as pd\n",
    "import matplotlib.pyplot as plt\n",
    "ecopro = fdr.DataReader('086520')\n",
    "close_prices = ecopro['Close']\n",
    "ema_50 = close_prices.ewm(span=50, adjust=False).mean()\n",
    "ecopro['ema_50'] = ema_50\n",
    "ema_12 = close_prices.ewm(span=12, adjust=False).mean()\n",
    "ecopro['ema_12'] = ema_12\n",
    "ema_26 = close_prices.ewm(span=26, adjust=False).mean()\n",
    "ecopro['ema_26'] = ema_26\n",
    "ema_200 = close_prices.ewm(span=200, adjust=False).mean()\n",
    "ecopro['ema_200'] = ema_200\n",
    "ecopro['MACD'] = ecopro['ema_12'] - ecopro['ema_26']\n",
    "ecopro['Signal Line'] = ecopro['MACD'].ewm(span=9, adjust=False).mean()\n",
    "# 결과 시각화\n",
    "plt.figure(figsize=(14,7))\n",
    "plt.plot(close_prices, label='Close Price', color='black')\n",
    "plt.plot(ema_50, label='10-day EMA', color='blue')\n",
    "plt.plot(ema_200, label='120-day EMA', color='red')\n",
    "plt.plot(ecopro['MACD'], label='MACD')\n",
    "plt.plot(ecopro['Signal Line'], label='Signal Line')\n",
    "plt.title('ECOPRO (086520) - Close Price and EMA')\n",
    "plt.legend(loc='upper left')\n",
    "plt.show()\n",
    "signals = [2]\n",
    "for i in range(1, len(ecopro)):\n",
    "        if ((ecopro['MACD'].iloc[i-1] < ecopro['Signal Line'].iloc[i-1]) and (ecopro['MACD'].iloc[i] > ecopro['Signal Line'].iloc[i])) or \\\n",
    "        ((ecopro['ema_50'].iloc[i-1] < ecopro['ema_200'].iloc[i-1]) and (ecopro['ema_50'].iloc[i] > ecopro['ema_200'].iloc[i])):\n",
    "            signals.append(1)  # 매수 신호\n",
    "        elif ((ecopro['MACD'].iloc[i-1] > ecopro['Signal Line'].iloc[i-1]) and (ecopro['MACD'].iloc[i] < ecopro['Signal Line'].iloc[i])) or \\\n",
    "        ((ecopro['ema_50'].iloc[i-1] > ecopro['ema_200'].iloc[i-1]) and (ecopro['ema_50'].iloc[i] < ecopro['ema_200'].iloc[i])):\n",
    "            signals.append(0)  # 매도 신호\n",
    "        else:\n",
    "            signals.append(2)  # 교차 없음\n",
    "ecopro['Signal'] = signals\n",
    "ecopro1 = ecopro.iloc[1:, :]"
   ]
  },
  {
   "cell_type": "code",
   "execution_count": 21,
   "id": "d39fbcb7-3d98-4099-916b-15f9597451d2",
   "metadata": {},
   "outputs": [
    {
     "name": "stdout",
     "output_type": "stream",
     "text": [
      "        Feature          VIF\n",
      "0          Open  2490.479801\n",
      "1          High  1164.453068\n",
      "2           Low  1376.412975\n",
      "3         Close  1114.755559\n",
      "4        Volume     1.189276\n",
      "5        Change     1.241081\n",
      "6        ema_50  6091.999946\n",
      "7        ema_12          inf\n",
      "8        ema_26          inf\n",
      "9       ema_200    80.039212\n",
      "10         MACD          inf\n",
      "11  Signal Line   118.687858\n"
     ]
    },
    {
     "name": "stderr",
     "output_type": "stream",
     "text": [
      "C:\\Users\\campus4D046\\anaconda3\\Lib\\site-packages\\statsmodels\\stats\\outliers_influence.py:198: RuntimeWarning: divide by zero encountered in scalar divide\n",
      "  vif = 1. / (1. - r_squared_i)\n"
     ]
    }
   ],
   "source": [
    "from statsmodels.stats.outliers_influence import variance_inflation_factor\n",
    "\n",
    "# 분석에 사용할 컬럼 선택\n",
    "features = ecopro1[[ 'Open', 'High', 'Low', 'Close', 'Volume', 'Change','ema_50', 'ema_12', 'ema_26', 'ema_200', 'MACD', 'Signal Line']]\n",
    "\n",
    "# VIF 계산\n",
    "vif_data = pd.DataFrame()\n",
    "vif_data[\"Feature\"] = features.columns\n",
    "vif_data[\"VIF\"] = [variance_inflation_factor(features.values, i) for i in range(len(features.columns))]\n",
    "\n",
    "print(vif_data)\n"
   ]
  },
  {
   "cell_type": "code",
   "execution_count": 17,
   "id": "4ba6c0fd-2a5e-438f-b566-dc0b33748fd1",
   "metadata": {},
   "outputs": [
    {
     "data": {
      "text/plain": [
       "Index(['Date', 'Open', 'High', 'Low', 'Close', 'Volume', 'Change'], dtype='object')"
      ]
     },
     "execution_count": 17,
     "metadata": {},
     "output_type": "execute_result"
    }
   ],
   "source": [
    "df =pd.read_csv('krx/stocks/삼성전기.csv')\n",
    "df.columns"
   ]
  },
  {
   "cell_type": "code",
   "execution_count": null,
   "id": "34a1dcbe-32b8-4baa-912f-885796834955",
   "metadata": {},
   "outputs": [],
   "source": [
    "'041190', '015750'"
   ]
  },
  {
   "cell_type": "code",
   "execution_count": 29,
   "id": "f3eecb47-8cc3-49dd-b502-04349e8cb42a",
   "metadata": {},
   "outputs": [],
   "source": [
    "import FinanceDataReader as fdr\n",
    "import numpy as np\n",
    "import pandas as pd\n",
    "from sklearn.model_selection import train_test_split\n",
    "from sklearn.metrics import accuracy_score, confusion_matrix, classification_report\n",
    "import xgboost as xgb\n",
    "\n",
    "# 분석할 주식 코드 목록\n",
    "stock_codes = ['005930']\n",
    "\n",
    "# 빈 리스트를 만들어서 모든 주식 데이터를 통합할 준비\n",
    "X = []\n",
    "Y = []\n",
    "\n",
    "# 각 주식 코드에 대해 데이터 불러오고 처리\n",
    "for code in stock_codes:\n",
    "    try:\n",
    "        df = fdr.DataReader(code).dropna()  # 데이터 불러오기 및 결측값 제거\n",
    "        \n",
    "        # 주식 데이터가 비어있지 않은 경우에만 처리\n",
    "        if not df.empty:\n",
    "            df['Change'] = df['Close'].pct_change()  # 가격 변화율 계산\n",
    "            df = df.dropna()  # NaN 값 제거\n",
    "\n",
    "            # 특성 벡터 생성 (Open, High, Low, Close, Volume, Change 값)\n",
    "            features = df[['Open', 'High', 'Low', 'Close', 'Volume', 'Change']].values\n",
    "\n",
    "\n",
    "            # 지수 이동 평균 (EMA) 및 MACD 계산\n",
    "            ema_12 = pd.Series(df['Close']).ewm(span=12, adjust=False).mean().values\n",
    "            ema_26 = pd.Series(df['Close']).ewm(span=26, adjust=False).mean().values\n",
    "            ema_50 = pd.Series(df['Close']).ewm(span=50, adjust=False).mean().values\n",
    "            ema_200 = pd.Series(df['Close']).ewm(span=200, adjust=False).mean().values\n",
    "\n",
    "            macd = ema_12 - ema_26\n",
    "            signal_line = pd.Series(macd).ewm(span=9, adjust=False).mean().values\n",
    "\n",
    "            # Signals 계산\n",
    "            signals = np.zeros(len(macd))\n",
    "            for j in range(1, len(macd)):\n",
    "                if ((macd[j-1] < signal_line[j-1]) and (macd[j] > signal_line[j])) or \\\n",
    "                   ((ema_50[j-1] < ema_200[j-1]) and (ema_50[j] > ema_200[j])):\n",
    "                    signals[j] = 1  # 매수 신호\n",
    "                elif ((macd[j-1] > signal_line[j-1]) and (macd[j] < signal_line[j])) or \\\n",
    "                     ((ema_50[j-1] > ema_200[j-1]) and (ema_50[j] < ema_200[j])):\n",
    "                    signals[j] = 0  # 매도 신호\n",
    "                else:\n",
    "                    signals[j] = 2  # 교차 없음\n",
    "            \n",
    "            # 데이터 추가 (특성 및 타겟 값)\n",
    "            for i in range(len(signals)):\n",
    "                # 특성 벡터 생성 (Open, High, Low, Close, Volume, Change 값)\n",
    "                features_i = features[i, :] if i < len(features) else np.zeros(features.shape[1])\n",
    "                X.append(features_i)\n",
    "                Y.append(signals[i])\n",
    "                \n",
    "    except Exception as e:\n",
    "        print(f\"Error processing code {code}: {e}\")\n",
    "\n",
    "# X와 Y를 numpy 배열로 변환\n",
    "X = np.array(X)\n",
    "Y = np.array(Y)"
   ]
  },
  {
   "cell_type": "code",
   "execution_count": 31,
   "id": "320c92a5-e1ea-4269-9e4d-d35998f54c32",
   "metadata": {},
   "outputs": [
    {
     "name": "stdout",
     "output_type": "stream",
     "text": [
      "Accuracy: 0.9260960334029228\n",
      "Confusion Matrix:\n",
      "[[   0    0  100]\n",
      " [   0    0   77]\n",
      " [   0    0 2218]]\n",
      "Classification Report:\n",
      "              precision    recall  f1-score   support\n",
      "\n",
      "         0.0       0.00      0.00      0.00       100\n",
      "         1.0       0.00      0.00      0.00        77\n",
      "         2.0       0.93      1.00      0.96      2218\n",
      "\n",
      "    accuracy                           0.93      2395\n",
      "   macro avg       0.31      0.33      0.32      2395\n",
      "weighted avg       0.86      0.93      0.89      2395\n",
      "\n"
     ]
    },
    {
     "name": "stderr",
     "output_type": "stream",
     "text": [
      "C:\\Users\\campus4D046\\anaconda3\\Lib\\site-packages\\sklearn\\metrics\\_classification.py:1344: UndefinedMetricWarning: Precision and F-score are ill-defined and being set to 0.0 in labels with no predicted samples. Use `zero_division` parameter to control this behavior.\n",
      "  _warn_prf(average, modifier, msg_start, len(result))\n",
      "C:\\Users\\campus4D046\\anaconda3\\Lib\\site-packages\\sklearn\\metrics\\_classification.py:1344: UndefinedMetricWarning: Precision and F-score are ill-defined and being set to 0.0 in labels with no predicted samples. Use `zero_division` parameter to control this behavior.\n",
      "  _warn_prf(average, modifier, msg_start, len(result))\n",
      "C:\\Users\\campus4D046\\anaconda3\\Lib\\site-packages\\sklearn\\metrics\\_classification.py:1344: UndefinedMetricWarning: Precision and F-score are ill-defined and being set to 0.0 in labels with no predicted samples. Use `zero_division` parameter to control this behavior.\n",
      "  _warn_prf(average, modifier, msg_start, len(result))\n"
     ]
    }
   ],
   "source": [
    "import FinanceDataReader as fdr\n",
    "import numpy as np\n",
    "import pandas as pd\n",
    "from sklearn.model_selection import train_test_split\n",
    "from sklearn.metrics import accuracy_score, confusion_matrix, classification_report\n",
    "from sklearn.ensemble import RandomForestClassifier\n",
    "\n",
    "# 데이터 분할 (훈련 데이터와 테스트 데이터)\n",
    "X_train, X_test, Y_train, Y_test = train_test_split(X, Y, test_size=0.2, shuffle=True, random_state=42)\n",
    "\n",
    "# 랜덤 포레스트 모델 생성 및 학습\n",
    "model = RandomForestClassifier(\n",
    "    n_estimators=100,\n",
    "    max_depth=5,\n",
    "    random_state=42\n",
    ")\n",
    "model.fit(X_train, Y_train)\n",
    "\n",
    "# 테스트 데이터에 대해 예측 수행\n",
    "Y_pred = model.predict(X_test)\n",
    "\n",
    "# 모델 평가\n",
    "accuracy = accuracy_score(Y_test, Y_pred)\n",
    "print(f'Accuracy: {accuracy}')\n",
    "\n",
    "conf_matrix = confusion_matrix(Y_test, Y_pred)\n",
    "print(f'Confusion Matrix:\\n{conf_matrix}')\n",
    "\n",
    "class_report = classification_report(Y_test, Y_pred)\n",
    "print(f'Classification Report:\\n{class_report}')"
   ]
  },
  {
   "cell_type": "code",
   "execution_count": 33,
   "id": "d277e650-d184-4f21-83a2-90fd49ac8962",
   "metadata": {},
   "outputs": [
    {
     "name": "stdout",
     "output_type": "stream",
     "text": [
      "Predicted Signal: 2.0\n",
      "Interpreted Signal: No Signal\n"
     ]
    }
   ],
   "source": [
    "# 새 데이터\n",
    "new_data = np.array([79400, 80200, 78700, 80200, 22061478, 3000]).reshape(1, -1)\n",
    "\n",
    "# 랜덤 포레스트 모델로 예측 수행\n",
    "predicted_signal = model.predict(new_data)\n",
    "\n",
    "print(f'Predicted Signal: {predicted_signal[0]}')\n",
    "\n",
    "# 예측 결과 해석\n",
    "signal_map = {0: 'Sell', 1: 'Buy', 2: 'No Signal'}\n",
    "print(f'Interpreted Signal: {signal_map[predicted_signal[0]]}')"
   ]
  },
  {
   "cell_type": "markdown",
   "id": "b5cb71a6-36bc-43a8-a8aa-05950fa7c814",
   "metadata": {
    "jp-MarkdownHeadingCollapsed": true
   },
   "source": [
    "### 기업별 모델링 \n",
    "- 기능 기업별 모델링 파일 저장\n",
    "- 기업(Code) , 새 데이터 입력 -> signal 예측"
   ]
  },
  {
   "cell_type": "code",
   "execution_count": 44,
   "id": "ecf5754a-edd3-4511-8399-8e1f22b53726",
   "metadata": {},
   "outputs": [
    {
     "name": "stderr",
     "output_type": "stream",
     "text": [
      "C:\\Users\\campus4D046\\anaconda3\\Lib\\site-packages\\sklearn\\metrics\\_classification.py:1344: UndefinedMetricWarning: Precision and F-score are ill-defined and being set to 0.0 in labels with no predicted samples. Use `zero_division` parameter to control this behavior.\n",
      "  _warn_prf(average, modifier, msg_start, len(result))\n",
      "C:\\Users\\campus4D046\\anaconda3\\Lib\\site-packages\\sklearn\\metrics\\_classification.py:1344: UndefinedMetricWarning: Precision and F-score are ill-defined and being set to 0.0 in labels with no predicted samples. Use `zero_division` parameter to control this behavior.\n",
      "  _warn_prf(average, modifier, msg_start, len(result))\n",
      "C:\\Users\\campus4D046\\anaconda3\\Lib\\site-packages\\sklearn\\metrics\\_classification.py:1344: UndefinedMetricWarning: Precision and F-score are ill-defined and being set to 0.0 in labels with no predicted samples. Use `zero_division` parameter to control this behavior.\n",
      "  _warn_prf(average, modifier, msg_start, len(result))\n"
     ]
    },
    {
     "name": "stdout",
     "output_type": "stream",
     "text": [
      "Model for code 041190 saved as model_041190.joblib\n",
      "Accuracy for code 041190: 0.9171548117154812\n",
      "Confusion Matrix for code 041190:\n",
      "[[   0    0   47]\n",
      " [   0    0   52]\n",
      " [   0    0 1096]]\n",
      "Classification Report for code 041190:\n",
      "              precision    recall  f1-score   support\n",
      "\n",
      "         0.0       0.00      0.00      0.00        47\n",
      "         1.0       0.00      0.00      0.00        52\n",
      "         2.0       0.92      1.00      0.96      1096\n",
      "\n",
      "    accuracy                           0.92      1195\n",
      "   macro avg       0.31      0.33      0.32      1195\n",
      "weighted avg       0.84      0.92      0.88      1195\n",
      "\n",
      "Model for code 015750 saved as model_015750.joblib\n",
      "Accuracy for code 015750: 0.9141666666666667\n",
      "Confusion Matrix for code 015750:\n",
      "[[   0    0   54]\n",
      " [   0    0   48]\n",
      " [   0    1 1097]]\n",
      "Classification Report for code 015750:\n",
      "              precision    recall  f1-score   support\n",
      "\n",
      "         0.0       0.00      0.00      0.00        54\n",
      "         1.0       0.00      0.00      0.00        48\n",
      "         2.0       0.91      1.00      0.96      1098\n",
      "\n",
      "    accuracy                           0.91      1200\n",
      "   macro avg       0.30      0.33      0.32      1200\n",
      "weighted avg       0.84      0.91      0.87      1200\n",
      "\n"
     ]
    },
    {
     "name": "stderr",
     "output_type": "stream",
     "text": [
      "C:\\Users\\campus4D046\\anaconda3\\Lib\\site-packages\\sklearn\\metrics\\_classification.py:1344: UndefinedMetricWarning: Precision and F-score are ill-defined and being set to 0.0 in labels with no predicted samples. Use `zero_division` parameter to control this behavior.\n",
      "  _warn_prf(average, modifier, msg_start, len(result))\n",
      "C:\\Users\\campus4D046\\anaconda3\\Lib\\site-packages\\sklearn\\metrics\\_classification.py:1344: UndefinedMetricWarning: Precision and F-score are ill-defined and being set to 0.0 in labels with no predicted samples. Use `zero_division` parameter to control this behavior.\n",
      "  _warn_prf(average, modifier, msg_start, len(result))\n",
      "C:\\Users\\campus4D046\\anaconda3\\Lib\\site-packages\\sklearn\\metrics\\_classification.py:1344: UndefinedMetricWarning: Precision and F-score are ill-defined and being set to 0.0 in labels with no predicted samples. Use `zero_division` parameter to control this behavior.\n",
      "  _warn_prf(average, modifier, msg_start, len(result))\n"
     ]
    }
   ],
   "source": [
    "import FinanceDataReader as fdr\n",
    "import numpy as np\n",
    "import pandas as pd\n",
    "import xgboost as xgb\n",
    "import joblib  # For saving and loading models\n",
    "from sklearn.model_selection import train_test_split\n",
    "from sklearn.metrics import accuracy_score, confusion_matrix, classification_report\n",
    "\n",
    "# 분석할 주식 코드 목록\n",
    "stock_codes = ['041190', '015750']\n",
    "\n",
    "# 각 기업별 모델을 저장할 딕셔너리\n",
    "models = {}\n",
    "\n",
    "for code in stock_codes:\n",
    "    try:\n",
    "        df = fdr.DataReader(code).dropna()  # 데이터 불러오기 및 결측값 제거\n",
    "        \n",
    "        if not df.empty:\n",
    "            df['Change'] = df['Close'].pct_change()  # 가격 변화율 계산\n",
    "            df = df.dropna()  # NaN 값 제거\n",
    "\n",
    "            # 특성 벡터 생성 (Open, High, Low, Close, Volume, Change 값)\n",
    "            features = df[['Open', 'High', 'Low', 'Close', 'Volume', 'Change']].values\n",
    "\n",
    "            # 지수 이동 평균 (EMA) 및 MACD 계산\n",
    "            ema_12 = pd.Series(df['Close']).ewm(span=12, adjust=False).mean().values\n",
    "            ema_26 = pd.Series(df['Close']).ewm(span=26, adjust=False).mean().values\n",
    "            ema_50 = pd.Series(df['Close']).ewm(span=50, adjust=False).mean().values\n",
    "            ema_200 = pd.Series(df['Close']).ewm(span=200, adjust=False).mean().values\n",
    "\n",
    "            macd = ema_12 - ema_26\n",
    "            signal_line = pd.Series(macd).ewm(span=9, adjust=False).mean().values\n",
    "\n",
    "            # Signals 계산\n",
    "            signals = np.zeros(len(macd))\n",
    "            for j in range(1, len(macd)):\n",
    "                if ((macd[j-1] < signal_line[j-1]) and (macd[j] > signal_line[j])) or \\\n",
    "                   ((ema_50[j-1] < ema_200[j-1]) and (ema_50[j] > ema_200[j])):\n",
    "                    signals[j] = 1  # 매수 신호\n",
    "                elif ((macd[j-1] > signal_line[j-1]) and (macd[j] < signal_line[j])) or \\\n",
    "                     ((ema_50[j-1] > ema_200[j-1]) and (ema_50[j] < ema_200[j])):\n",
    "                    signals[j] = 0  # 매도 신호\n",
    "                else:\n",
    "                    signals[j] = 2  # 교차 없음\n",
    "            \n",
    "            # 데이터 추가 (특성 및 타겟 값)\n",
    "            X = features\n",
    "            Y = signals\n",
    "\n",
    "            # 데이터 분할 (훈련 데이터와 테스트 데이터)\n",
    "            X_train, X_test, Y_train, Y_test = train_test_split(X, Y, test_size=0.2, shuffle=True, random_state=42)\n",
    "\n",
    "            # XGBoost 분류 모델 생성 및 학습\n",
    "            model = xgb.XGBClassifier(\n",
    "                objective='multi:softmax',\n",
    "                eval_metric='mlogloss',\n",
    "                learning_rate=0.1,\n",
    "                n_estimators=100,\n",
    "                max_depth=5,\n",
    "                subsample=0.8,\n",
    "                colsample_bytree=0.8,\n",
    "                num_class=3,  # 클래스 수 (매수, 매도, 신호 없음)\n",
    "                random_state=42\n",
    "            )\n",
    "            model.fit(X_train, Y_train)\n",
    "\n",
    "            # 테스트 데이터에 대해 예측 수행\n",
    "            Y_pred = model.predict(X_test)\n",
    "\n",
    "            # 모델 평가\n",
    "            accuracy = accuracy_score(Y_test, Y_pred)\n",
    "            conf_matrix = confusion_matrix(Y_test, Y_pred)\n",
    "            class_report = classification_report(Y_test, Y_pred)\n",
    "\n",
    "            # 모델 저장\n",
    "            model_filename = f'model_{code}.joblib'\n",
    "            joblib.dump(model, model_filename)\n",
    "            models[code] = model_filename\n",
    "            \n",
    "\n",
    "            # 결과 출력\n",
    "            print(f\"Model for code {code} saved as {model_filename}\")\n",
    "            print(f\"Accuracy for code {code}: {accuracy}\")\n",
    "            print(f\"Confusion Matrix for code {code}:\\n{conf_matrix}\")\n",
    "            print(f\"Classification Report for code {code}:\\n{class_report}\")\n",
    "\n",
    "    except Exception as e:\n",
    "        print(f\"Error processing code {code}: {e}\")\n"
   ]
  },
  {
   "cell_type": "code",
   "execution_count": 38,
   "id": "3cc0d9ec-ca6f-440b-9eb6-91acce174fb4",
   "metadata": {},
   "outputs": [
    {
     "name": "stdout",
     "output_type": "stream",
     "text": [
      "For company code 041190, the predicted signal is No Signal\n"
     ]
    }
   ],
   "source": [
    "import joblib  # For saving and loading models\n",
    "import numpy as np\n",
    "\n",
    "# 특정 기업 코드\n",
    "company_code = '041190'  # Replace with the desired code\n",
    "\n",
    "# 새 데이터\n",
    "new_data = np.array([79400, 80200, 78700, 80200, 22061478, 3000]).reshape(1, -1)\n",
    "\n",
    "# 기업 코드에 맞는 모델 파일명\n",
    "model_filename = f'model_{company_code}.joblib'\n",
    "\n",
    "try:\n",
    "    # 모델 불러오기\n",
    "    model = joblib.load(model_filename)\n",
    "    \n",
    "    # 예측 수행\n",
    "    predicted_signal = model.predict(new_data)\n",
    "    \n",
    "    # 예측 결과 해석\n",
    "    signal_map = {0: 'Sell', 1: 'Buy', 2: 'No Signal'}\n",
    "    print(f'For company code {company_code}, the predicted signal is {signal_map[predicted_signal[0]]}')\n",
    "    \n",
    "except FileNotFoundError:\n",
    "    print(f\"Model file for code {company_code} not found.\")\n",
    "except Exception as e:\n",
    "    print(f\"Error during prediction: {e}\")\n"
   ]
  },
  {
   "cell_type": "markdown",
   "id": "63f4f75c-0b30-4ae8-a605-71378be53817",
   "metadata": {},
   "source": [
    "### 기업별 모델링2"
   ]
  },
  {
   "cell_type": "markdown",
   "id": "0072457b-89ad-421e-93cf-d3b7e6e45690",
   "metadata": {
    "jp-MarkdownHeadingCollapsed": true
   },
   "source": [
    "#### 시그널 value_count"
   ]
  },
  {
   "cell_type": "code",
   "execution_count": 29,
   "id": "493623df-d740-45ec-8620-e5c6d7d0e4cc",
   "metadata": {},
   "outputs": [],
   "source": [
    "import FinanceDataReader as fdr\n",
    "import numpy as np\n",
    "import pandas as pd\n",
    "import xgboost as xgb\n",
    "import joblib\n",
    "from sklearn.model_selection import train_test_split\n",
    "from sklearn.metrics import accuracy_score, confusion_matrix, classification_report\n",
    "from sklearn.utils.class_weight import compute_class_weight\n",
    "df = fdr.DataReader('015750').dropna()\n",
    "\n",
    " # 가격 변화율 계산\n",
    "df['Change'] = df['Close'].pct_change()\n",
    "df = df.dropna()\n",
    "\n",
    "# EMA 계산 및 MACD, Signal Line 생성\n",
    "df['ema_10'] = df['Close'].ewm(span=10, adjust=False).mean()\n",
    "df['ema_12'] = df['Close'].ewm(span=12, adjust=False).mean()\n",
    "df['ema_26'] = df['Close'].ewm(span=26, adjust=False).mean()\n",
    "df['ema_30'] = df['Close'].ewm(span=30, adjust=False).mean()\n",
    "df['MACD'] = df['ema_12'] - df['ema_26']\n",
    "df['Signal Line'] = df['MACD'].ewm(span=9, adjust=False).mean()\n",
    "\n",
    "# Signals 계산\n",
    "signals = [2]  # 첫 번째 신호는 비교할 이전 데이터가 없기 때문에 2로 설정\n",
    "for i in range(1, len(df)):\n",
    "    if ((df['MACD'].iloc[i-1] < df['Signal Line'].iloc[i-1]) and (df['MACD'].iloc[i] > df['Signal Line'].iloc[i])) or \\\n",
    "       ((df['ema_10'].iloc[i-1] < df['ema_30'].iloc[i-1]) and (df['ema_10'].iloc[i] > df['ema_30'].iloc[i])):\n",
    "        signals.append(1)  # 매수 신호\n",
    "    elif ((df['MACD'].iloc[i-1] > df['Signal Line'].iloc[i-1]) and (df['MACD'].iloc[i] < df['Signal Line'].iloc[i])) or \\\n",
    "         ((df['ema_10'].iloc[i-1] > df['ema_30'].iloc[i-1]) and (df['ema_10'].iloc[i] < df['ema_30'].iloc[i])):\n",
    "        signals.append(0)  # 매도 신호\n",
    "    else:\n",
    "        signals.append(2)  # 교차 없음\n",
    "df['Signal'] = signals\n",
    "\n",
    "# Position 열 초기화\n",
    "df['Position'] = 0\n",
    "for i in range(0, len(df), 100):\n",
    "    avg_volume = df.iloc[i:i+100]['Volume'].mean()\n",
    "    df.iloc[i:i+100, df.columns.get_loc('Position')] = np.where(df.iloc[i:i+100]['Volume'] > avg_volume, 1, 0)\n",
    "\n",
    "# 매수/매도 신호 업데이트\n",
    "df['Signal'] = np.where((df['Position'] == 1) & (df['Change'] < 0), 1, df['Signal'])  # 매수\n",
    "df['Signal'] = np.where((df['Position'] == 1) & (df['Change'] > 0), 0, df['Signal'])  # 매도\n",
    "\n",
    "# 볼린저 밴드 계산\n",
    "window = 5  # 이동평균 기간\n",
    "df['SMA'] = df['Close'].rolling(window=window).mean()  # 단순 이동평균\n",
    "df['STD'] = df['Close'].rolling(window=window).std()   # 표준편차\n",
    "df['Upper Band'] = df['SMA'] + (df['STD'] * 1.2)       # 상단 밴드\n",
    "df['Lower Band'] = df['SMA'] - (df['STD'] * 1.2)      # 하단 밴드\n",
    "\n",
    "# 결측값 제거\n",
    "df = df.dropna()\n",
    "\n",
    "# Position2 및 Position3 열 초기화\n",
    "df[['Position2', 'Position3']] = 0\n",
    "\n",
    "# 과매수 및 과매도 구간\n",
    "df['Position2'] = np.where(df['Close'] >= df['Upper Band'], 1, df['Position2'])  # 과매수 구간\n",
    "df['Position3'] = np.where(df['Close'] <= df['Lower Band'], 1, df['Position3'])  # 과매도 구간\n",
    "\n",
    "# 매수/매도 신호 업데이트\n",
    "df['Signal'] = np.where(df['Position2'] == 1, 0, df['Signal'])  # 매도 추천\n",
    "df['Signal'] = np.where(df['Position3'] == 1, 1, df['Signal'])  # 매수 추천\n",
    "\n",
    "# 불필요한 열 제거\n",
    "columns_to_remove = ['ema_10', 'ema_12', 'ema_26', 'ema_30', 'MACD', 'Signal Line', 'Position']\n",
    "df = df.drop(columns=columns_to_remove)\n",
    "\n",
    "# 다시 NaN 값 제거\n",
    "df = df.dropna()"
   ]
  },
  {
   "cell_type": "code",
   "execution_count": 31,
   "id": "f337824c-2db4-4e67-b342-d4d9196b1600",
   "metadata": {},
   "outputs": [
    {
     "data": {
      "text/plain": [
       "Signal\n",
       "2    2856\n",
       "1    1600\n",
       "0    1538\n",
       "Name: count, dtype: int64"
      ]
     },
     "execution_count": 31,
     "metadata": {},
     "output_type": "execute_result"
    }
   ],
   "source": [
    "df['Signal'].value_counts()"
   ]
  },
  {
   "cell_type": "code",
   "execution_count": 97,
   "id": "733b98aa-6dba-4b3f-8d1a-51b613a281a2",
   "metadata": {},
   "outputs": [
    {
     "data": {
      "text/plain": [
       "2512.0"
      ]
     },
     "execution_count": 97,
     "metadata": {},
     "output_type": "execute_result"
    }
   ],
   "source": [
    "(3487/3487 + 1383 + 1128)"
   ]
  },
  {
   "cell_type": "code",
   "execution_count": 99,
   "id": "95d50ff9-6d80-4f97-9e13-a6582dc0de81",
   "metadata": {},
   "outputs": [
    {
     "data": {
      "text/plain": [
       "2511.396616002294"
      ]
     },
     "execution_count": 99,
     "metadata": {},
     "output_type": "execute_result"
    }
   ],
   "source": [
    "(1383/3487 + 1383 + 1128)"
   ]
  },
  {
   "cell_type": "markdown",
   "id": "b097c199-5bf0-451e-b591-37a81895a252",
   "metadata": {},
   "source": [
    "#### 기업별 모델링"
   ]
  },
  {
   "cell_type": "code",
   "execution_count": 138,
   "id": "e2092d77-67df-4f5f-be17-50e548e141e5",
   "metadata": {
    "scrolled": true
   },
   "outputs": [
    {
     "name": "stderr",
     "output_type": "stream",
     "text": [
      "C:\\Users\\campus4D046\\anaconda3\\Lib\\site-packages\\xgboost\\core.py:158: UserWarning: [15:36:51] WARNING: C:\\buildkite-agent\\builds\\buildkite-windows-cpu-autoscaling-group-i-0015a694724fa8361-1\\xgboost\\xgboost-ci-windows\\src\\learner.cc:740: \n",
      "Parameters: { \"scale_pos_weight\" } are not used.\n",
      "\n",
      "  warnings.warn(smsg, UserWarning)\n"
     ]
    },
    {
     "name": "stdout",
     "output_type": "stream",
     "text": [
      "Model for code 086520 saved as model_086520.joblib\n",
      "Accuracy for code 086520: 0.47357512953367875\n",
      "Confusion Matrix for code 086520:\n",
      "[[ 55  21 185]\n",
      " [ 41  31 187]\n",
      " [ 31  43 371]]\n",
      "Classification Report for code 086520:\n",
      "              precision    recall  f1-score   support\n",
      "\n",
      "           0       0.43      0.21      0.28       261\n",
      "           1       0.33      0.12      0.18       259\n",
      "           2       0.50      0.83      0.62       445\n",
      "\n",
      "    accuracy                           0.47       965\n",
      "   macro avg       0.42      0.39      0.36       965\n",
      "weighted avg       0.43      0.47      0.41       965\n",
      "\n"
     ]
    },
    {
     "name": "stderr",
     "output_type": "stream",
     "text": [
      "C:\\Users\\campus4D046\\anaconda3\\Lib\\site-packages\\xgboost\\core.py:158: UserWarning: [15:38:50] WARNING: C:\\buildkite-agent\\builds\\buildkite-windows-cpu-autoscaling-group-i-0015a694724fa8361-1\\xgboost\\xgboost-ci-windows\\src\\learner.cc:740: \n",
      "Parameters: { \"scale_pos_weight\" } are not used.\n",
      "\n",
      "  warnings.warn(smsg, UserWarning)\n"
     ]
    },
    {
     "name": "stdout",
     "output_type": "stream",
     "text": [
      "Model for code 035890 saved as model_035890.joblib\n",
      "Accuracy for code 035890: 0.52368245496998\n",
      "Confusion Matrix for code 035890:\n",
      "[[ 70  31 273]\n",
      " [ 52  64 275]\n",
      " [ 42  41 651]]\n",
      "Classification Report for code 035890:\n",
      "              precision    recall  f1-score   support\n",
      "\n",
      "           0       0.43      0.19      0.26       374\n",
      "           1       0.47      0.16      0.24       391\n",
      "           2       0.54      0.89      0.67       734\n",
      "\n",
      "    accuracy                           0.52      1499\n",
      "   macro avg       0.48      0.41      0.39      1499\n",
      "weighted avg       0.50      0.52      0.46      1499\n",
      "\n"
     ]
    },
    {
     "name": "stderr",
     "output_type": "stream",
     "text": [
      "C:\\Users\\campus4D046\\anaconda3\\Lib\\site-packages\\xgboost\\core.py:158: UserWarning: [15:41:25] WARNING: C:\\buildkite-agent\\builds\\buildkite-windows-cpu-autoscaling-group-i-0015a694724fa8361-1\\xgboost\\xgboost-ci-windows\\src\\learner.cc:740: \n",
      "Parameters: { \"scale_pos_weight\" } are not used.\n",
      "\n",
      "  warnings.warn(smsg, UserWarning)\n"
     ]
    },
    {
     "name": "stdout",
     "output_type": "stream",
     "text": [
      "Model for code 036220 saved as model_036220.joblib\n",
      "Accuracy for code 036220: 0.4810126582278481\n",
      "Confusion Matrix for code 036220:\n",
      "[[ 11  15  76]\n",
      " [ 11  42  65]\n",
      " [ 19  19 137]]\n",
      "Classification Report for code 036220:\n",
      "              precision    recall  f1-score   support\n",
      "\n",
      "           0       0.27      0.11      0.15       102\n",
      "           1       0.55      0.36      0.43       118\n",
      "           2       0.49      0.78      0.60       175\n",
      "\n",
      "    accuracy                           0.48       395\n",
      "   macro avg       0.44      0.42      0.40       395\n",
      "weighted avg       0.45      0.48      0.44       395\n",
      "\n"
     ]
    }
   ],
   "source": [
    "import FinanceDataReader as fdr\n",
    "import numpy as np\n",
    "import pandas as pd\n",
    "import xgboost as xgb\n",
    "import joblib\n",
    "from sklearn.model_selection import train_test_split\n",
    "from sklearn.metrics import accuracy_score, confusion_matrix, classification_report\n",
    "from sklearn.utils.class_weight import compute_class_weight\n",
    "\n",
    "# 분석할 주식 코드 목록\n",
    "stock_codes = ['086520', '035890', '036220']\n",
    "\n",
    "# 각 기업별 모델을 저장할 딕셔너리\n",
    "models = {}\n",
    "\n",
    "for code in stock_codes:\n",
    "    try:\n",
    "        df = fdr.DataReader(code).dropna()  # 데이터 불러오기 및 결측값 제거\n",
    "        df.drop(['2024-08-22'])\n",
    "        if not df.empty:\n",
    "            # 가격 변화율 계산\n",
    "            df['Change'] = df['Close'].pct_change()\n",
    "            df = df.dropna()\n",
    "            \n",
    "            # EMA 계산 및 MACD, Signal Line 생성\n",
    "            df['ema_10'] = df['Close'].ewm(span=10, adjust=False).mean()\n",
    "            df['ema_12'] = df['Close'].ewm(span=12, adjust=False).mean()\n",
    "            df['ema_26'] = df['Close'].ewm(span=26, adjust=False).mean()\n",
    "            df['ema_30'] = df['Close'].ewm(span=30, adjust=False).mean()\n",
    "            df['MACD'] = df['ema_12'] - df['ema_26']\n",
    "            df['Signal Line'] = df['MACD'].ewm(span=9, adjust=False).mean()\n",
    "            \n",
    "            # Signals 계산\n",
    "            signals = [2]  # 첫 번째 신호는 비교할 이전 데이터가 없기 때문에 2로 설정\n",
    "            for i in range(1, len(df)):\n",
    "                if ((df['MACD'].iloc[i-1] < df['Signal Line'].iloc[i-1]) and (df['MACD'].iloc[i] > df['Signal Line'].iloc[i])) or \\\n",
    "                   ((df['ema_10'].iloc[i-1] < df['ema_30'].iloc[i-1]) and (df['ema_10'].iloc[i] > df['ema_30'].iloc[i])):\n",
    "                    signals.append(1)  # 매수 신호\n",
    "                elif ((df['MACD'].iloc[i-1] > df['Signal Line'].iloc[i-1]) and (df['MACD'].iloc[i] < df['Signal Line'].iloc[i])) or \\\n",
    "                     ((df['ema_10'].iloc[i-1] > df['ema_30'].iloc[i-1]) and (df['ema_10'].iloc[i] < df['ema_30'].iloc[i])):\n",
    "                    signals.append(0)  # 매도 신호\n",
    "                else:\n",
    "                    signals.append(2)  # 교차 없음\n",
    "            df['Signal'] = signals\n",
    "            \n",
    "            # Position 열 초기화\n",
    "            df['Position'] = 0\n",
    "            for i in range(0, len(df), 100):\n",
    "                avg_volume = df.iloc[i:i+100]['Volume'].mean()\n",
    "                df.iloc[i:i+100, df.columns.get_loc('Position')] = np.where(df.iloc[i:i+100]['Volume'] > avg_volume, 1, 0)\n",
    "            \n",
    "            # 매수/매도 신호 업데이트\n",
    "            df['Signal'] = np.where((df['Position'] == 1) & (df['Change'] < 0), 1, df['Signal'])  # 매수\n",
    "            df['Signal'] = np.where((df['Position'] == 1) & (df['Change'] > 0), 0, df['Signal'])  # 매도\n",
    "            \n",
    "            # 볼린저 밴드 계산\n",
    "            window = 5  # 이동평균 기간\n",
    "            df['SMA'] = df['Close'].rolling(window=window).mean()  # 단순 이동평균\n",
    "            df['STD'] = df['Close'].rolling(window=window).std()   # 표준편차\n",
    "            df['Upper Band'] = df['SMA'] + (df['STD'] * 1.2)       # 상단 밴드\n",
    "            df['Lower Band'] = df['SMA'] - (df['STD'] * 1.2)      # 하단 밴드\n",
    "            \n",
    "            # 결측값 제거\n",
    "            df = df.dropna()\n",
    "            \n",
    "            # Position2 및 Position3 열 초기화\n",
    "            df[['Position2', 'Position3']] = 0\n",
    "            \n",
    "            # 과매수 및 과매도 구간\n",
    "            df['Position2'] = np.where(df['Close'] >= df['Upper Band'], 1, df['Position2'])  # 과매수 구간\n",
    "            df['Position3'] = np.where(df['Close'] <= df['Lower Band'], 1, df['Position3'])  # 과매도 구간\n",
    "            \n",
    "            # 매수/매도 신호 업데이트\n",
    "            df['Signal'] = np.where(df['Position2'] == 1, 0, df['Signal'])  # 매도 추천\n",
    "            df['Signal'] = np.where(df['Position3'] == 1, 1, df['Signal'])  # 매수 추천\n",
    "            \n",
    "            # 불필요한 열 제거\n",
    "            columns_to_remove = ['ema_10', 'ema_12', 'ema_26', 'ema_30', 'MACD', 'Signal Line', 'Position']\n",
    "            df = df.drop(columns=columns_to_remove)\n",
    "            \n",
    "            # 다시 NaN 값 제거\n",
    "            df = df.dropna()\n",
    "\n",
    "            #\n",
    "            # 윈도우 슬라이싱을 통해 2차원 입력 데이터 생성\n",
    "            window = 1000  # 5일 동안의 데이터를 사용\n",
    "            X, y = [], []\n",
    "            for i in range(window, len(df)):\n",
    "                X.append(df[['Open', 'High', 'Low', 'Close', 'Volume', 'Change']].iloc[i-window:i].values.flatten())\n",
    "                y.append(df['Signal'].iloc[i])\n",
    "\n",
    "            X = np.array(X)\n",
    "            y = np.array(y)\n",
    "\n",
    "            # 데이터 분할 (훈련 데이터와 테스트 데이터)\n",
    "            X_train, X_test, Y_train, Y_test = train_test_split(X, y, test_size=0.3, shuffle=True, random_state=42, stratify=y)\n",
    "            #\n",
    "            \n",
    "            # # 특성 벡터와 타겟 벡터 설정\n",
    "            # features = df[['Open', 'High', 'Low', 'Close', 'Volume', 'Change']].values\n",
    "            # targets = df['Signal'].values\n",
    "\n",
    "            # # 데이터 분할 (훈련 데이터와 테스트 데이터)\n",
    "            # X_train, X_test, Y_train, Y_test = train_test_split(features, targets, test_size=0.3, shuffle=True, random_state=42,stratify=targets)\n",
    "            \n",
    "            # 클래스 가중치 계산\n",
    "            classes = np.unique(Y_train)\n",
    "            class_weights = compute_class_weight(class_weight='balanced', classes=classes, y=Y_train)\n",
    "            class_weight_dict = dict(zip(classes, class_weights))\n",
    "           \n",
    "            # XGBoost 분류 모델 생성 및 학습\n",
    "            model = xgb.XGBClassifier(\n",
    "                objective='multi:softmax',\n",
    "                eval_metric='mlogloss',\n",
    "                learning_rate=0.1,\n",
    "                n_estimators=100,\n",
    "                max_depth=5,\n",
    "                subsample=0.8,\n",
    "                colsample_bytree=0.8,\n",
    "                num_class=3,  # 클래스 수 (매수, 매도, 신호 없음)\n",
    "                random_state=42,\n",
    "                scale_pos_weight=class_weight_dict[1]  # 가중치 설정\n",
    "            )\n",
    "            model.fit(X_train, Y_train)\n",
    "\n",
    "            # 테스트 데이터에 대해 예측 수행\n",
    "            Y_pred = model.predict(X_test)\n",
    "\n",
    "            # 모델 평가\n",
    "            accuracy = accuracy_score(Y_test, Y_pred)\n",
    "            conf_matrix = confusion_matrix(Y_test, Y_pred)\n",
    "            class_report = classification_report(Y_test, Y_pred)\n",
    "\n",
    "            # 모델 저장\n",
    "            model_filename = f'model_{code}.joblib'\n",
    "            joblib.dump(model, model_filename)\n",
    "            models[code] = model_filename\n",
    "\n",
    "            # 결과 출력\n",
    "            print(f\"Model for code {code} saved as {model_filename}\")\n",
    "            print(f\"Accuracy for code {code}: {accuracy}\")\n",
    "            print(f\"Confusion Matrix for code {code}:\\n{conf_matrix}\")\n",
    "            print(f\"Classification Report for code {code}:\\n{class_report}\")\n",
    "\n",
    "    except Exception as e:\n",
    "        print(f\"Error processing code {code}: {e}\")\n"
   ]
  },
  {
   "cell_type": "code",
   "execution_count": 142,
   "id": "0a1b04c1-8b2b-4b87-9e17-a484183d81cc",
   "metadata": {},
   "outputs": [
    {
     "name": "stdout",
     "output_type": "stream",
     "text": [
      "For company code 035890, the predicted signal is Buy\n"
     ]
    }
   ],
   "source": [
    "import joblib  # For saving and loading models\n",
    "import FinanceDataReader as fdr\n",
    "import numpy as np\n",
    "\n",
    "# 특정 기업 코드\n",
    "company_code = '035890'  # 예측을 수행할 주식 코드\n",
    "\n",
    "# 데이터 불러오기\n",
    "df = fdr.DataReader(company_code).dropna()\n",
    "df.drop(['2024-08-22'])\n",
    "# 최근 10일치 데이터 추출\n",
    "window = 1000\n",
    "new_data = df[['Open', 'High', 'Low', 'Close', 'Volume', 'Change']].iloc[-window:].values.flatten()\n",
    "\n",
    "# 데이터를 2D 형태로 변환 (모델 입력에 맞게)\n",
    "new_data = new_data.reshape(1, -1)\n",
    "\n",
    "# 기업 코드에 맞는 모델 파일명\n",
    "model_filename = f'model_{company_code}.joblib'\n",
    "\n",
    "try:\n",
    "    # 모델 불러오기\n",
    "    model = joblib.load(model_filename)\n",
    "    \n",
    "    # 예측 수행\n",
    "    predicted_signal = model.predict(new_data)\n",
    "    \n",
    "    # 예측 결과 해석\n",
    "    signal_map = {0: 'Sell', 1: 'Buy', 2: 'No Signal'}\n",
    "    print(f'For company code {company_code}, the predicted signal is {signal_map[predicted_signal[0]]}')\n",
    "    \n",
    "except FileNotFoundError:\n",
    "    print(f\"Model file for code {company_code} not found.\")\n",
    "except Exception as e:\n",
    "    print(f\"Error during prediction: {e}\")\n"
   ]
  },
  {
   "cell_type": "markdown",
   "id": "3d7ef144-198f-4b3d-9fe4-991e56b9c553",
   "metadata": {},
   "source": [
    "## 코스닥 기업별 모델링"
   ]
  },
  {
   "cell_type": "code",
   "execution_count": 89,
   "id": "29f8372b-faeb-4ab8-a4eb-24f6e40fe625",
   "metadata": {},
   "outputs": [
    {
     "data": {
      "text/html": [
       "<div>\n",
       "<style scoped>\n",
       "    .dataframe tbody tr th:only-of-type {\n",
       "        vertical-align: middle;\n",
       "    }\n",
       "\n",
       "    .dataframe tbody tr th {\n",
       "        vertical-align: top;\n",
       "    }\n",
       "\n",
       "    .dataframe thead th {\n",
       "        text-align: right;\n",
       "    }\n",
       "</style>\n",
       "<table border=\"1\" class=\"dataframe\">\n",
       "  <thead>\n",
       "    <tr style=\"text-align: right;\">\n",
       "      <th></th>\n",
       "      <th>Code</th>\n",
       "      <th>Name</th>\n",
       "      <th>ROE</th>\n",
       "      <th>PER</th>\n",
       "    </tr>\n",
       "  </thead>\n",
       "  <tbody>\n",
       "    <tr>\n",
       "      <th>0</th>\n",
       "      <td>41190</td>\n",
       "      <td>우리기술투자</td>\n",
       "      <td>26.51</td>\n",
       "      <td>4.92</td>\n",
       "    </tr>\n",
       "    <tr>\n",
       "      <th>1</th>\n",
       "      <td>15750</td>\n",
       "      <td>성우하이텍</td>\n",
       "      <td>13.63</td>\n",
       "      <td>3.41</td>\n",
       "    </tr>\n",
       "    <tr>\n",
       "      <th>2</th>\n",
       "      <td>215200</td>\n",
       "      <td>메가스터디교육</td>\n",
       "      <td>21.07</td>\n",
       "      <td>6.23</td>\n",
       "    </tr>\n",
       "    <tr>\n",
       "      <th>3</th>\n",
       "      <td>25980</td>\n",
       "      <td>아난티</td>\n",
       "      <td>17.47</td>\n",
       "      <td>4.44</td>\n",
       "    </tr>\n",
       "    <tr>\n",
       "      <th>4</th>\n",
       "      <td>95660</td>\n",
       "      <td>네오위즈</td>\n",
       "      <td>10.37</td>\n",
       "      <td>7.12</td>\n",
       "    </tr>\n",
       "  </tbody>\n",
       "</table>\n",
       "</div>"
      ],
      "text/plain": [
       "     Code     Name    ROE   PER\n",
       "0   41190   우리기술투자  26.51  4.92\n",
       "1   15750    성우하이텍  13.63  3.41\n",
       "2  215200  메가스터디교육  21.07  6.23\n",
       "3   25980      아난티  17.47  4.44\n",
       "4   95660     네오위즈  10.37  7.12"
      ]
     },
     "execution_count": 89,
     "metadata": {},
     "output_type": "execute_result"
    }
   ],
   "source": [
    "kosdak =pd.read_csv('KOSDAQ_result.csv')\n",
    "kosdak.head()"
   ]
  },
  {
   "cell_type": "markdown",
   "id": "9e8e04e2-4881-4fd2-80a0-98c3a5f2e8ba",
   "metadata": {
    "jp-MarkdownHeadingCollapsed": true
   },
   "source": [
    "#### 회사 Signal 비율 확인"
   ]
  },
  {
   "cell_type": "code",
   "execution_count": 132,
   "id": "466ed5a5-7c1d-46f5-802d-a2ebb40b7800",
   "metadata": {},
   "outputs": [],
   "source": [
    "df = fdr.DataReader('041190').dropna()\n",
    "\n",
    " # 가격 변화율 계산\n",
    "df['Change'] = df['Close'].pct_change()\n",
    "df = df.dropna()\n",
    "\n",
    "# EMA 계산 및 MACD, Signal Line 생성\n",
    "df['ema_10'] = df['Close'].ewm(span=10, adjust=False).mean()\n",
    "df['ema_12'] = df['Close'].ewm(span=12, adjust=False).mean()\n",
    "df['ema_26'] = df['Close'].ewm(span=26, adjust=False).mean()\n",
    "df['ema_30'] = df['Close'].ewm(span=30, adjust=False).mean()\n",
    "df['MACD'] = df['ema_12'] - df['ema_26']\n",
    "df['Signal Line'] = df['MACD'].ewm(span=9, adjust=False).mean()\n",
    "\n",
    "# Signals 계산\n",
    "signals = [2]  # 첫 번째 신호는 비교할 이전 데이터가 없기 때문에 2로 설정\n",
    "for i in range(1, len(df)):\n",
    "    if ((df['MACD'].iloc[i-1] < df['Signal Line'].iloc[i-1]) and (df['MACD'].iloc[i] > df['Signal Line'].iloc[i])) or \\\n",
    "       ((df['ema_10'].iloc[i-1] < df['ema_30'].iloc[i-1]) and (df['ema_10'].iloc[i] > df['ema_30'].iloc[i])):\n",
    "        signals.append(1)  # 매수 신호\n",
    "    elif ((df['MACD'].iloc[i-1] > df['Signal Line'].iloc[i-1]) and (df['MACD'].iloc[i] < df['Signal Line'].iloc[i])) or \\\n",
    "         ((df['ema_10'].iloc[i-1] > df['ema_30'].iloc[i-1]) and (df['ema_10'].iloc[i] < df['ema_30'].iloc[i])):\n",
    "        signals.append(0)  # 매도 신호\n",
    "    else:\n",
    "        signals.append(2)  # 교차 없음\n",
    "df['Signal'] = signals\n",
    "\n",
    "# Position 열 초기화\n",
    "df['Position'] = 0\n",
    "for i in range(0, len(df), 100):\n",
    "    avg_volume = df.iloc[i:i+100]['Volume'].mean()\n",
    "    df.iloc[i:i+100, df.columns.get_loc('Position')] = np.where(df.iloc[i:i+100]['Volume'] > avg_volume, 1, 0)\n",
    "\n",
    "# 매수/매도 신호 업데이트\n",
    "df['Signal'] = np.where((df['Position'] == 1) & (df['Change'] < 0), 1, df['Signal'])  # 매수\n",
    "df['Signal'] = np.where((df['Position'] == 1) & (df['Change'] > 0), 0, df['Signal'])  # 매도\n",
    "\n",
    "# 볼린저 밴드 계산\n",
    "window = 5  # 이동평균 기간\n",
    "df['SMA'] = df['Close'].rolling(window=window).mean()  # 단순 이동평균\n",
    "df['STD'] = df['Close'].rolling(window=window).std()   # 표준편차\n",
    "df['Upper Band'] = df['SMA'] + (df['STD'] * 1.2)       # 상단 밴드\n",
    "df['Lower Band'] = df['SMA'] - (df['STD'] * 1.2)      # 하단 밴드\n",
    "\n",
    "# 결측값 제거\n",
    "df = df.dropna()\n",
    "\n",
    "# Position2 및 Position3 열 초기화\n",
    "df[['Position2', 'Position3']] = 0\n",
    "\n",
    "# 과매수 및 과매도 구간\n",
    "df['Position2'] = np.where(df['Close'] >= df['Upper Band'], 1, df['Position2'])  # 과매수 구간\n",
    "df['Position3'] = np.where(df['Close'] <= df['Lower Band'], 1, df['Position3'])  # 과매도 구간\n",
    "\n",
    "# 매수/매도 신호 업데이트\n",
    "df['Signal'] = np.where(df['Position2'] == 1, 0, df['Signal'])  # 매도 추천\n",
    "df['Signal'] = np.where(df['Position3'] == 1, 1, df['Signal'])  # 매수 추천\n",
    "\n",
    "# 불필요한 열 제거\n",
    "columns_to_remove = ['ema_10', 'ema_12', 'ema_26', 'ema_30', 'MACD', 'Signal Line', 'Position']\n",
    "df = df.drop(columns=columns_to_remove)\n",
    "\n",
    "# 다시 NaN 값 제거\n",
    "df = df.dropna()"
   ]
  },
  {
   "cell_type": "code",
   "execution_count": 130,
   "id": "4e9786b2-8604-45a5-946e-3bdcde301251",
   "metadata": {},
   "outputs": [
    {
     "data": {
      "text/plain": [
       "Signal\n",
       "1.0    987\n",
       "0.0    882\n",
       "Name: count, dtype: int64"
      ]
     },
     "execution_count": 130,
     "metadata": {},
     "output_type": "execute_result"
    }
   ],
   "source": [
    "df['Signal'].value_counts()"
   ]
  },
  {
   "cell_type": "markdown",
   "id": "9b11ed1d-15b9-4798-ad87-9d5f16114bdc",
   "metadata": {
    "jp-MarkdownHeadingCollapsed": true
   },
   "source": [
    "#### 코스닥별 20개 모델링 "
   ]
  },
  {
   "cell_type": "code",
   "execution_count": 77,
   "id": "d4e26cc8-c4a5-4938-bd71-0be87acd02eb",
   "metadata": {
    "scrolled": true
   },
   "outputs": [
    {
     "name": "stdout",
     "output_type": "stream",
     "text": [
      "Top 20 Stock Codes:\n",
      "['041190', '015750', '215200', '025980', '095660', '215000', '290650', '099320', '006730', '101160', '023160', '013030', '043150', '243070', '297890', '230360', '035890', '045100', '041830', '083450']\n"
     ]
    },
    {
     "name": "stderr",
     "output_type": "stream",
     "text": [
      "C:\\Users\\campus4D046\\anaconda3\\Lib\\site-packages\\xgboost\\core.py:158: UserWarning: [14:39:35] WARNING: C:\\buildkite-agent\\builds\\buildkite-windows-cpu-autoscaling-group-i-0015a694724fa8361-1\\xgboost\\xgboost-ci-windows\\src\\learner.cc:740: \n",
      "Parameters: { \"scale_pos_weight\" } are not used.\n",
      "\n",
      "  warnings.warn(smsg, UserWarning)\n"
     ]
    },
    {
     "name": "stdout",
     "output_type": "stream",
     "text": [
      "Model for code 041190 saved as model_041190.joblib\n",
      "Accuracy for code 041190: 0.7081473214285714\n",
      "Confusion Matrix for code 041190:\n",
      "[[277  10 154]\n",
      " [  4 312 145]\n",
      " [ 67 143 680]]\n",
      "Classification Report for code 041190:\n",
      "              precision    recall  f1-score   support\n",
      "\n",
      "           0       0.80      0.63      0.70       441\n",
      "           1       0.67      0.68      0.67       461\n",
      "           2       0.69      0.76      0.73       890\n",
      "\n",
      "    accuracy                           0.71      1792\n",
      "   macro avg       0.72      0.69      0.70      1792\n",
      "weighted avg       0.71      0.71      0.71      1792\n",
      "\n"
     ]
    },
    {
     "name": "stderr",
     "output_type": "stream",
     "text": [
      "C:\\Users\\campus4D046\\anaconda3\\Lib\\site-packages\\xgboost\\core.py:158: UserWarning: [14:39:37] WARNING: C:\\buildkite-agent\\builds\\buildkite-windows-cpu-autoscaling-group-i-0015a694724fa8361-1\\xgboost\\xgboost-ci-windows\\src\\learner.cc:740: \n",
      "Parameters: { \"scale_pos_weight\" } are not used.\n",
      "\n",
      "  warnings.warn(smsg, UserWarning)\n"
     ]
    },
    {
     "name": "stdout",
     "output_type": "stream",
     "text": [
      "Model for code 015750 saved as model_015750.joblib\n",
      "Accuracy for code 015750: 0.7065036131183992\n",
      "Confusion Matrix for code 015750:\n",
      "[[308   6 148]\n",
      " [  5 319 156]\n",
      " [ 85 128 644]]\n",
      "Classification Report for code 015750:\n",
      "              precision    recall  f1-score   support\n",
      "\n",
      "           0       0.77      0.67      0.72       462\n",
      "           1       0.70      0.66      0.68       480\n",
      "           2       0.68      0.75      0.71       857\n",
      "\n",
      "    accuracy                           0.71      1799\n",
      "   macro avg       0.72      0.69      0.70      1799\n",
      "weighted avg       0.71      0.71      0.71      1799\n",
      "\n"
     ]
    },
    {
     "name": "stderr",
     "output_type": "stream",
     "text": [
      "C:\\Users\\campus4D046\\anaconda3\\Lib\\site-packages\\xgboost\\core.py:158: UserWarning: [14:39:38] WARNING: C:\\buildkite-agent\\builds\\buildkite-windows-cpu-autoscaling-group-i-0015a694724fa8361-1\\xgboost\\xgboost-ci-windows\\src\\learner.cc:740: \n",
      "Parameters: { \"scale_pos_weight\" } are not used.\n",
      "\n",
      "  warnings.warn(smsg, UserWarning)\n"
     ]
    },
    {
     "name": "stdout",
     "output_type": "stream",
     "text": [
      "Model for code 215200 saved as model_215200.joblib\n",
      "Accuracy for code 215200: 0.7186588921282799\n",
      "Confusion Matrix for code 215200:\n",
      "[[117   4  48]\n",
      " [  1 136  56]\n",
      " [ 35  49 240]]\n",
      "Classification Report for code 215200:\n",
      "              precision    recall  f1-score   support\n",
      "\n",
      "           0       0.76      0.69      0.73       169\n",
      "           1       0.72      0.70      0.71       193\n",
      "           2       0.70      0.74      0.72       324\n",
      "\n",
      "    accuracy                           0.72       686\n",
      "   macro avg       0.73      0.71      0.72       686\n",
      "weighted avg       0.72      0.72      0.72       686\n",
      "\n"
     ]
    },
    {
     "name": "stderr",
     "output_type": "stream",
     "text": [
      "C:\\Users\\campus4D046\\anaconda3\\Lib\\site-packages\\xgboost\\core.py:158: UserWarning: [14:39:40] WARNING: C:\\buildkite-agent\\builds\\buildkite-windows-cpu-autoscaling-group-i-0015a694724fa8361-1\\xgboost\\xgboost-ci-windows\\src\\learner.cc:740: \n",
      "Parameters: { \"scale_pos_weight\" } are not used.\n",
      "\n",
      "  warnings.warn(smsg, UserWarning)\n"
     ]
    },
    {
     "name": "stdout",
     "output_type": "stream",
     "text": [
      "Model for code 025980 saved as model_025980.joblib\n",
      "Accuracy for code 025980: 0.7098387993329628\n",
      "Confusion Matrix for code 025980:\n",
      "[[289  10 155]\n",
      " [  6 328 147]\n",
      " [ 84 120 660]]\n",
      "Classification Report for code 025980:\n",
      "              precision    recall  f1-score   support\n",
      "\n",
      "           0       0.76      0.64      0.69       454\n",
      "           1       0.72      0.68      0.70       481\n",
      "           2       0.69      0.76      0.72       864\n",
      "\n",
      "    accuracy                           0.71      1799\n",
      "   macro avg       0.72      0.69      0.71      1799\n",
      "weighted avg       0.71      0.71      0.71      1799\n",
      "\n"
     ]
    },
    {
     "name": "stderr",
     "output_type": "stream",
     "text": [
      "C:\\Users\\campus4D046\\anaconda3\\Lib\\site-packages\\xgboost\\core.py:158: UserWarning: [14:39:42] WARNING: C:\\buildkite-agent\\builds\\buildkite-windows-cpu-autoscaling-group-i-0015a694724fa8361-1\\xgboost\\xgboost-ci-windows\\src\\learner.cc:740: \n",
      "Parameters: { \"scale_pos_weight\" } are not used.\n",
      "\n",
      "  warnings.warn(smsg, UserWarning)\n"
     ]
    },
    {
     "name": "stdout",
     "output_type": "stream",
     "text": [
      "Model for code 095660 saved as model_095660.joblib\n",
      "Accuracy for code 095660: 0.7494089834515366\n",
      "Confusion Matrix for code 095660:\n",
      "[[209   7  92]\n",
      " [  3 256  86]\n",
      " [ 60  70 486]]\n",
      "Classification Report for code 095660:\n",
      "              precision    recall  f1-score   support\n",
      "\n",
      "           0       0.77      0.68      0.72       308\n",
      "           1       0.77      0.74      0.76       345\n",
      "           2       0.73      0.79      0.76       616\n",
      "\n",
      "    accuracy                           0.75      1269\n",
      "   macro avg       0.76      0.74      0.75      1269\n",
      "weighted avg       0.75      0.75      0.75      1269\n",
      "\n"
     ]
    },
    {
     "name": "stderr",
     "output_type": "stream",
     "text": [
      "C:\\Users\\campus4D046\\anaconda3\\Lib\\site-packages\\xgboost\\core.py:158: UserWarning: [14:39:43] WARNING: C:\\buildkite-agent\\builds\\buildkite-windows-cpu-autoscaling-group-i-0015a694724fa8361-1\\xgboost\\xgboost-ci-windows\\src\\learner.cc:740: \n",
      "Parameters: { \"scale_pos_weight\" } are not used.\n",
      "\n",
      "  warnings.warn(smsg, UserWarning)\n"
     ]
    },
    {
     "name": "stdout",
     "output_type": "stream",
     "text": [
      "Model for code 215000 saved as model_215000.joblib\n",
      "Accuracy for code 215000: 0.6979768786127167\n",
      "Confusion Matrix for code 215000:\n",
      "[[ 90   4  62]\n",
      " [  3 141  48]\n",
      " [ 38  54 252]]\n",
      "Classification Report for code 215000:\n",
      "              precision    recall  f1-score   support\n",
      "\n",
      "           0       0.69      0.58      0.63       156\n",
      "           1       0.71      0.73      0.72       192\n",
      "           2       0.70      0.73      0.71       344\n",
      "\n",
      "    accuracy                           0.70       692\n",
      "   macro avg       0.70      0.68      0.69       692\n",
      "weighted avg       0.70      0.70      0.70       692\n",
      "\n"
     ]
    },
    {
     "name": "stderr",
     "output_type": "stream",
     "text": [
      "C:\\Users\\campus4D046\\anaconda3\\Lib\\site-packages\\xgboost\\core.py:158: UserWarning: [14:39:45] WARNING: C:\\buildkite-agent\\builds\\buildkite-windows-cpu-autoscaling-group-i-0015a694724fa8361-1\\xgboost\\xgboost-ci-windows\\src\\learner.cc:740: \n",
      "Parameters: { \"scale_pos_weight\" } are not used.\n",
      "\n",
      "  warnings.warn(smsg, UserWarning)\n"
     ]
    },
    {
     "name": "stdout",
     "output_type": "stream",
     "text": [
      "Model for code 290650 saved as model_290650.joblib\n",
      "Accuracy for code 290650: 0.6993006993006993\n",
      "Confusion Matrix for code 290650:\n",
      "[[ 65   1  42]\n",
      " [  2  78  40]\n",
      " [ 20  24 157]]\n",
      "Classification Report for code 290650:\n",
      "              precision    recall  f1-score   support\n",
      "\n",
      "           0       0.75      0.60      0.67       108\n",
      "           1       0.76      0.65      0.70       120\n",
      "           2       0.66      0.78      0.71       201\n",
      "\n",
      "    accuracy                           0.70       429\n",
      "   macro avg       0.72      0.68      0.69       429\n",
      "weighted avg       0.71      0.70      0.70       429\n",
      "\n"
     ]
    },
    {
     "name": "stderr",
     "output_type": "stream",
     "text": [
      "C:\\Users\\campus4D046\\anaconda3\\Lib\\site-packages\\xgboost\\core.py:158: UserWarning: [14:39:46] WARNING: C:\\buildkite-agent\\builds\\buildkite-windows-cpu-autoscaling-group-i-0015a694724fa8361-1\\xgboost\\xgboost-ci-windows\\src\\learner.cc:740: \n",
      "Parameters: { \"scale_pos_weight\" } are not used.\n",
      "\n",
      "  warnings.warn(smsg, UserWarning)\n"
     ]
    },
    {
     "name": "stdout",
     "output_type": "stream",
     "text": [
      "Model for code 099320 saved as model_099320.joblib\n",
      "Accuracy for code 099320: 0.7083333333333334\n",
      "Confusion Matrix for code 099320:\n",
      "[[200   4  95]\n",
      " [  5 221  96]\n",
      " [ 52  98 429]]\n",
      "Classification Report for code 099320:\n",
      "              precision    recall  f1-score   support\n",
      "\n",
      "           0       0.78      0.67      0.72       299\n",
      "           1       0.68      0.69      0.69       322\n",
      "           2       0.69      0.74      0.72       579\n",
      "\n",
      "    accuracy                           0.71      1200\n",
      "   macro avg       0.72      0.70      0.71      1200\n",
      "weighted avg       0.71      0.71      0.71      1200\n",
      "\n"
     ]
    },
    {
     "name": "stderr",
     "output_type": "stream",
     "text": [
      "C:\\Users\\campus4D046\\anaconda3\\Lib\\site-packages\\xgboost\\core.py:158: UserWarning: [14:39:48] WARNING: C:\\buildkite-agent\\builds\\buildkite-windows-cpu-autoscaling-group-i-0015a694724fa8361-1\\xgboost\\xgboost-ci-windows\\src\\learner.cc:740: \n",
      "Parameters: { \"scale_pos_weight\" } are not used.\n",
      "\n",
      "  warnings.warn(smsg, UserWarning)\n"
     ]
    },
    {
     "name": "stdout",
     "output_type": "stream",
     "text": [
      "Model for code 006730 saved as model_006730.joblib\n",
      "Accuracy for code 006730: 0.7348526959421902\n",
      "Confusion Matrix for code 006730:\n",
      "[[302   4 140]\n",
      " [  3 355 124]\n",
      " [ 92 114 665]]\n",
      "Classification Report for code 006730:\n",
      "              precision    recall  f1-score   support\n",
      "\n",
      "           0       0.76      0.68      0.72       446\n",
      "           1       0.75      0.74      0.74       482\n",
      "           2       0.72      0.76      0.74       871\n",
      "\n",
      "    accuracy                           0.73      1799\n",
      "   macro avg       0.74      0.73      0.73      1799\n",
      "weighted avg       0.74      0.73      0.73      1799\n",
      "\n"
     ]
    },
    {
     "name": "stderr",
     "output_type": "stream",
     "text": [
      "C:\\Users\\campus4D046\\anaconda3\\Lib\\site-packages\\xgboost\\core.py:158: UserWarning: [14:39:49] WARNING: C:\\buildkite-agent\\builds\\buildkite-windows-cpu-autoscaling-group-i-0015a694724fa8361-1\\xgboost\\xgboost-ci-windows\\src\\learner.cc:740: \n",
      "Parameters: { \"scale_pos_weight\" } are not used.\n",
      "\n",
      "  warnings.warn(smsg, UserWarning)\n"
     ]
    },
    {
     "name": "stdout",
     "output_type": "stream",
     "text": [
      "Model for code 101160 saved as model_101160.joblib\n",
      "Accuracy for code 101160: 0.7064220183486238\n",
      "Confusion Matrix for code 101160:\n",
      "[[214   8  85]\n",
      " [  5 238  85]\n",
      " [ 75  94 395]]\n",
      "Classification Report for code 101160:\n",
      "              precision    recall  f1-score   support\n",
      "\n",
      "           0       0.73      0.70      0.71       307\n",
      "           1       0.70      0.73      0.71       328\n",
      "           2       0.70      0.70      0.70       564\n",
      "\n",
      "    accuracy                           0.71      1199\n",
      "   macro avg       0.71      0.71      0.71      1199\n",
      "weighted avg       0.71      0.71      0.71      1199\n",
      "\n"
     ]
    },
    {
     "name": "stderr",
     "output_type": "stream",
     "text": [
      "C:\\Users\\campus4D046\\anaconda3\\Lib\\site-packages\\xgboost\\core.py:158: UserWarning: [14:39:51] WARNING: C:\\buildkite-agent\\builds\\buildkite-windows-cpu-autoscaling-group-i-0015a694724fa8361-1\\xgboost\\xgboost-ci-windows\\src\\learner.cc:740: \n",
      "Parameters: { \"scale_pos_weight\" } are not used.\n",
      "\n",
      "  warnings.warn(smsg, UserWarning)\n"
     ]
    },
    {
     "name": "stdout",
     "output_type": "stream",
     "text": [
      "Model for code 023160 saved as model_023160.joblib\n",
      "Accuracy for code 023160: 0.7298499166203446\n",
      "Confusion Matrix for code 023160:\n",
      "[[337   8 128]\n",
      " [  4 341 138]\n",
      " [ 99 109 635]]\n",
      "Classification Report for code 023160:\n",
      "              precision    recall  f1-score   support\n",
      "\n",
      "           0       0.77      0.71      0.74       473\n",
      "           1       0.74      0.71      0.72       483\n",
      "           2       0.70      0.75      0.73       843\n",
      "\n",
      "    accuracy                           0.73      1799\n",
      "   macro avg       0.74      0.72      0.73      1799\n",
      "weighted avg       0.73      0.73      0.73      1799\n",
      "\n"
     ]
    },
    {
     "name": "stderr",
     "output_type": "stream",
     "text": [
      "C:\\Users\\campus4D046\\anaconda3\\Lib\\site-packages\\xgboost\\core.py:158: UserWarning: [14:39:53] WARNING: C:\\buildkite-agent\\builds\\buildkite-windows-cpu-autoscaling-group-i-0015a694724fa8361-1\\xgboost\\xgboost-ci-windows\\src\\learner.cc:740: \n",
      "Parameters: { \"scale_pos_weight\" } are not used.\n",
      "\n",
      "  warnings.warn(smsg, UserWarning)\n"
     ]
    },
    {
     "name": "stdout",
     "output_type": "stream",
     "text": [
      "Model for code 013030 saved as model_013030.joblib\n",
      "Accuracy for code 013030: 0.7376320177876599\n",
      "Confusion Matrix for code 013030:\n",
      "[[355   8 129]\n",
      " [  2 326 138]\n",
      " [ 98  97 646]]\n",
      "Classification Report for code 013030:\n",
      "              precision    recall  f1-score   support\n",
      "\n",
      "           0       0.78      0.72      0.75       492\n",
      "           1       0.76      0.70      0.73       466\n",
      "           2       0.71      0.77      0.74       841\n",
      "\n",
      "    accuracy                           0.74      1799\n",
      "   macro avg       0.75      0.73      0.74      1799\n",
      "weighted avg       0.74      0.74      0.74      1799\n",
      "\n"
     ]
    },
    {
     "name": "stderr",
     "output_type": "stream",
     "text": [
      "C:\\Users\\campus4D046\\anaconda3\\Lib\\site-packages\\xgboost\\core.py:158: UserWarning: [14:39:55] WARNING: C:\\buildkite-agent\\builds\\buildkite-windows-cpu-autoscaling-group-i-0015a694724fa8361-1\\xgboost\\xgboost-ci-windows\\src\\learner.cc:740: \n",
      "Parameters: { \"scale_pos_weight\" } are not used.\n",
      "\n",
      "  warnings.warn(smsg, UserWarning)\n"
     ]
    },
    {
     "name": "stdout",
     "output_type": "stream",
     "text": [
      "Model for code 043150 saved as model_043150.joblib\n",
      "Accuracy for code 043150: 0.720754716981132\n",
      "Confusion Matrix for code 043150:\n",
      "[[228   8 114]\n",
      " [  4 245 110]\n",
      " [ 60  74 482]]\n",
      "Classification Report for code 043150:\n",
      "              precision    recall  f1-score   support\n",
      "\n",
      "           0       0.78      0.65      0.71       350\n",
      "           1       0.75      0.68      0.71       359\n",
      "           2       0.68      0.78      0.73       616\n",
      "\n",
      "    accuracy                           0.72      1325\n",
      "   macro avg       0.74      0.71      0.72      1325\n",
      "weighted avg       0.73      0.72      0.72      1325\n",
      "\n"
     ]
    },
    {
     "name": "stderr",
     "output_type": "stream",
     "text": [
      "C:\\Users\\campus4D046\\anaconda3\\Lib\\site-packages\\xgboost\\core.py:158: UserWarning: [14:39:56] WARNING: C:\\buildkite-agent\\builds\\buildkite-windows-cpu-autoscaling-group-i-0015a694724fa8361-1\\xgboost\\xgboost-ci-windows\\src\\learner.cc:740: \n",
      "Parameters: { \"scale_pos_weight\" } are not used.\n",
      "\n",
      "  warnings.warn(smsg, UserWarning)\n"
     ]
    },
    {
     "name": "stdout",
     "output_type": "stream",
     "text": [
      "Model for code 243070 saved as model_243070.joblib\n",
      "Accuracy for code 243070: 0.698019801980198\n",
      "Confusion Matrix for code 243070:\n",
      "[[ 88   2  53]\n",
      " [  2 108  56]\n",
      " [ 30  40 227]]\n",
      "Classification Report for code 243070:\n",
      "              precision    recall  f1-score   support\n",
      "\n",
      "           0       0.73      0.62      0.67       143\n",
      "           1       0.72      0.65      0.68       166\n",
      "           2       0.68      0.76      0.72       297\n",
      "\n",
      "    accuracy                           0.70       606\n",
      "   macro avg       0.71      0.68      0.69       606\n",
      "weighted avg       0.70      0.70      0.70       606\n",
      "\n"
     ]
    },
    {
     "name": "stderr",
     "output_type": "stream",
     "text": [
      "C:\\Users\\campus4D046\\anaconda3\\Lib\\site-packages\\xgboost\\core.py:158: UserWarning: [14:39:57] WARNING: C:\\buildkite-agent\\builds\\buildkite-windows-cpu-autoscaling-group-i-0015a694724fa8361-1\\xgboost\\xgboost-ci-windows\\src\\learner.cc:740: \n",
      "Parameters: { \"scale_pos_weight\" } are not used.\n",
      "\n",
      "  warnings.warn(smsg, UserWarning)\n"
     ]
    },
    {
     "name": "stdout",
     "output_type": "stream",
     "text": [
      "Model for code 297890 saved as model_297890.joblib\n",
      "Accuracy for code 297890: 0.6948051948051948\n",
      "Confusion Matrix for code 297890:\n",
      "[[ 53   1  23]\n",
      " [  1  47  31]\n",
      " [ 17  21 114]]\n",
      "Classification Report for code 297890:\n",
      "              precision    recall  f1-score   support\n",
      "\n",
      "           0       0.75      0.69      0.72        77\n",
      "           1       0.68      0.59      0.64        79\n",
      "           2       0.68      0.75      0.71       152\n",
      "\n",
      "    accuracy                           0.69       308\n",
      "   macro avg       0.70      0.68      0.69       308\n",
      "weighted avg       0.70      0.69      0.69       308\n",
      "\n"
     ]
    },
    {
     "name": "stderr",
     "output_type": "stream",
     "text": [
      "C:\\Users\\campus4D046\\anaconda3\\Lib\\site-packages\\xgboost\\core.py:158: UserWarning: [14:39:58] WARNING: C:\\buildkite-agent\\builds\\buildkite-windows-cpu-autoscaling-group-i-0015a694724fa8361-1\\xgboost\\xgboost-ci-windows\\src\\learner.cc:740: \n",
      "Parameters: { \"scale_pos_weight\" } are not used.\n",
      "\n",
      "  warnings.warn(smsg, UserWarning)\n"
     ]
    },
    {
     "name": "stdout",
     "output_type": "stream",
     "text": [
      "Model for code 230360 saved as model_230360.joblib\n",
      "Accuracy for code 230360: 0.7246621621621622\n",
      "Confusion Matrix for code 230360:\n",
      "[[ 95   1  44]\n",
      " [  0 102  58]\n",
      " [ 30  30 232]]\n",
      "Classification Report for code 230360:\n",
      "              precision    recall  f1-score   support\n",
      "\n",
      "           0       0.76      0.68      0.72       140\n",
      "           1       0.77      0.64      0.70       160\n",
      "           2       0.69      0.79      0.74       292\n",
      "\n",
      "    accuracy                           0.72       592\n",
      "   macro avg       0.74      0.70      0.72       592\n",
      "weighted avg       0.73      0.72      0.72       592\n",
      "\n"
     ]
    },
    {
     "name": "stderr",
     "output_type": "stream",
     "text": [
      "C:\\Users\\campus4D046\\anaconda3\\Lib\\site-packages\\xgboost\\core.py:158: UserWarning: [14:40:00] WARNING: C:\\buildkite-agent\\builds\\buildkite-windows-cpu-autoscaling-group-i-0015a694724fa8361-1\\xgboost\\xgboost-ci-windows\\src\\learner.cc:740: \n",
      "Parameters: { \"scale_pos_weight\" } are not used.\n",
      "\n",
      "  warnings.warn(smsg, UserWarning)\n"
     ]
    },
    {
     "name": "stdout",
     "output_type": "stream",
     "text": [
      "Model for code 035890 saved as model_035890.joblib\n",
      "Accuracy for code 035890: 0.697609783212896\n",
      "Confusion Matrix for code 035890:\n",
      "[[301   7 138]\n",
      " [  5 287 180]\n",
      " [105 109 667]]\n",
      "Classification Report for code 035890:\n",
      "              precision    recall  f1-score   support\n",
      "\n",
      "           0       0.73      0.67      0.70       446\n",
      "           1       0.71      0.61      0.66       472\n",
      "           2       0.68      0.76      0.71       881\n",
      "\n",
      "    accuracy                           0.70      1799\n",
      "   macro avg       0.71      0.68      0.69      1799\n",
      "weighted avg       0.70      0.70      0.70      1799\n",
      "\n"
     ]
    },
    {
     "name": "stderr",
     "output_type": "stream",
     "text": [
      "C:\\Users\\campus4D046\\anaconda3\\Lib\\site-packages\\xgboost\\core.py:158: UserWarning: [14:40:02] WARNING: C:\\buildkite-agent\\builds\\buildkite-windows-cpu-autoscaling-group-i-0015a694724fa8361-1\\xgboost\\xgboost-ci-windows\\src\\learner.cc:740: \n",
      "Parameters: { \"scale_pos_weight\" } are not used.\n",
      "\n",
      "  warnings.warn(smsg, UserWarning)\n"
     ]
    },
    {
     "name": "stdout",
     "output_type": "stream",
     "text": [
      "Model for code 045100 saved as model_045100.joblib\n",
      "Accuracy for code 045100: 0.7126760563380282\n",
      "Confusion Matrix for code 045100:\n",
      "[[360   4 124]\n",
      " [ 12 311 132]\n",
      " [122 116 594]]\n",
      "Classification Report for code 045100:\n",
      "              precision    recall  f1-score   support\n",
      "\n",
      "           0       0.73      0.74      0.73       488\n",
      "           1       0.72      0.68      0.70       455\n",
      "           2       0.70      0.71      0.71       832\n",
      "\n",
      "    accuracy                           0.71      1775\n",
      "   macro avg       0.72      0.71      0.71      1775\n",
      "weighted avg       0.71      0.71      0.71      1775\n",
      "\n"
     ]
    },
    {
     "name": "stderr",
     "output_type": "stream",
     "text": [
      "C:\\Users\\campus4D046\\anaconda3\\Lib\\site-packages\\xgboost\\core.py:158: UserWarning: [14:40:04] WARNING: C:\\buildkite-agent\\builds\\buildkite-windows-cpu-autoscaling-group-i-0015a694724fa8361-1\\xgboost\\xgboost-ci-windows\\src\\learner.cc:740: \n",
      "Parameters: { \"scale_pos_weight\" } are not used.\n",
      "\n",
      "  warnings.warn(smsg, UserWarning)\n"
     ]
    },
    {
     "name": "stdout",
     "output_type": "stream",
     "text": [
      "Model for code 041830 saved as model_041830.joblib\n",
      "Accuracy for code 041830: 0.7102110667427267\n",
      "Confusion Matrix for code 041830:\n",
      "[[306   5 143]\n",
      " [  4 318 137]\n",
      " [ 93 126 621]]\n",
      "Classification Report for code 041830:\n",
      "              precision    recall  f1-score   support\n",
      "\n",
      "           0       0.76      0.67      0.71       454\n",
      "           1       0.71      0.69      0.70       459\n",
      "           2       0.69      0.74      0.71       840\n",
      "\n",
      "    accuracy                           0.71      1753\n",
      "   macro avg       0.72      0.70      0.71      1753\n",
      "weighted avg       0.71      0.71      0.71      1753\n",
      "\n"
     ]
    },
    {
     "name": "stderr",
     "output_type": "stream",
     "text": [
      "C:\\Users\\campus4D046\\anaconda3\\Lib\\site-packages\\xgboost\\core.py:158: UserWarning: [14:40:06] WARNING: C:\\buildkite-agent\\builds\\buildkite-windows-cpu-autoscaling-group-i-0015a694724fa8361-1\\xgboost\\xgboost-ci-windows\\src\\learner.cc:740: \n",
      "Parameters: { \"scale_pos_weight\" } are not used.\n",
      "\n",
      "  warnings.warn(smsg, UserWarning)\n"
     ]
    },
    {
     "name": "stdout",
     "output_type": "stream",
     "text": [
      "Model for code 083450 saved as model_083450.joblib\n",
      "Accuracy for code 083450: 0.7292576419213974\n",
      "Confusion Matrix for code 083450:\n",
      "[[239  10 105]\n",
      " [  3 266  93]\n",
      " [ 63  98 497]]\n",
      "Classification Report for code 083450:\n",
      "              precision    recall  f1-score   support\n",
      "\n",
      "           0       0.78      0.68      0.73       354\n",
      "           1       0.71      0.73      0.72       362\n",
      "           2       0.72      0.76      0.73       658\n",
      "\n",
      "    accuracy                           0.73      1374\n",
      "   macro avg       0.74      0.72      0.73      1374\n",
      "weighted avg       0.73      0.73      0.73      1374\n",
      "\n"
     ]
    }
   ],
   "source": [
    "import FinanceDataReader as fdr\n",
    "import numpy as np\n",
    "import pandas as pd\n",
    "import xgboost as xgb\n",
    "import joblib\n",
    "from sklearn.model_selection import train_test_split\n",
    "from sklearn.metrics import accuracy_score, confusion_matrix, classification_report\n",
    "from sklearn.utils.class_weight import compute_class_weight\n",
    "\n",
    "# CSV 파일에서 주식 코드 목록 불러오기\n",
    "kosdak = pd.read_csv('KOSDAQ_result.csv')\n",
    "# stock_codes = kosdak['Code'].astype(str).str.zfill(6).tolist()  # 주식 코드 목록 생성 (0으로 채우기)\n",
    "\n",
    "# 주식 코드 상위 20개만 선택\n",
    "top_20_stock_codes = kosdak['Code'].astype(str).str.zfill(6).head(20).tolist()\n",
    "\n",
    "# 상위 20개의 주식 코드 목록 출력\n",
    "print(\"Top 20 Stock Codes:\")\n",
    "print(top_20_stock_codes)\n",
    "\n",
    "# 각 기업별 모델을 저장할 딕셔너리\n",
    "models = {}\n",
    "\n",
    "for code in top_20_stock_codes:\n",
    "    try:\n",
    "        df = fdr.DataReader(code).dropna()  # 데이터 불러오기 및 결측값 제거\n",
    "        df.drop(['2024-08-22'])\n",
    "\n",
    "        if not df.empty:\n",
    "             # 가격 변화율 계산\n",
    "            df['Change'] = df['Close'].pct_change()\n",
    "            df = df.dropna()\n",
    "            \n",
    "            # EMA 계산 및 MACD, Signal Line 생성\n",
    "            df['ema_10'] = df['Close'].ewm(span=10, adjust=False).mean()\n",
    "            df['ema_12'] = df['Close'].ewm(span=12, adjust=False).mean()\n",
    "            df['ema_26'] = df['Close'].ewm(span=26, adjust=False).mean()\n",
    "            df['ema_30'] = df['Close'].ewm(span=30, adjust=False).mean()\n",
    "            df['MACD'] = df['ema_12'] - df['ema_26']\n",
    "            df['Signal Line'] = df['MACD'].ewm(span=9, adjust=False).mean()\n",
    "            \n",
    "            # Signals 계산\n",
    "            signals = [2]  # 첫 번째 신호는 비교할 이전 데이터가 없기 때문에 2로 설정\n",
    "            for i in range(1, len(df)):\n",
    "                if ((df['MACD'].iloc[i-1] < df['Signal Line'].iloc[i-1]) and (df['MACD'].iloc[i] > df['Signal Line'].iloc[i])) or \\\n",
    "                   ((df['ema_10'].iloc[i-1] < df['ema_30'].iloc[i-1]) and (df['ema_10'].iloc[i] > df['ema_30'].iloc[i])):\n",
    "                    signals.append(1)  # 매수 신호\n",
    "                elif ((df['MACD'].iloc[i-1] > df['Signal Line'].iloc[i-1]) and (df['MACD'].iloc[i] < df['Signal Line'].iloc[i])) or \\\n",
    "                     ((df['ema_10'].iloc[i-1] > df['ema_30'].iloc[i-1]) and (df['ema_10'].iloc[i] < df['ema_30'].iloc[i])):\n",
    "                    signals.append(0)  # 매도 신호\n",
    "                else:\n",
    "                    signals.append(2)  # 교차 없음\n",
    "            df['Signal'] = signals\n",
    "            \n",
    "            # Position 열 초기화\n",
    "            df['Position'] = 0\n",
    "            for i in range(0, len(df), 100):\n",
    "                avg_volume = df.iloc[i:i+100]['Volume'].mean()\n",
    "                df.iloc[i:i+100, df.columns.get_loc('Position')] = np.where(df.iloc[i:i+100]['Volume'] > avg_volume, 1, 0)\n",
    "            \n",
    "            # 매수/매도 신호 업데이트\n",
    "            df['Signal'] = np.where((df['Position'] == 1) & (df['Change'] < 0), 1, df['Signal'])  # 매수\n",
    "            df['Signal'] = np.where((df['Position'] == 1) & (df['Change'] > 0), 0, df['Signal'])  # 매도\n",
    "            \n",
    "            # 볼린저 밴드 계산\n",
    "            window = 5  # 이동평균 기간\n",
    "            df['SMA'] = df['Close'].rolling(window=window).mean()  # 단순 이동평균\n",
    "            df['STD'] = df['Close'].rolling(window=window).std()   # 표준편차\n",
    "            df['Upper Band'] = df['SMA'] + (df['STD'] * 1.2)       # 상단 밴드\n",
    "            df['Lower Band'] = df['SMA'] - (df['STD'] * 1.2)      # 하단 밴드\n",
    "            \n",
    "            # 결측값 제거\n",
    "            df = df.dropna()\n",
    "            \n",
    "            # Position2 및 Position3 열 초기화\n",
    "            df[['Position2', 'Position3']] = 0\n",
    "            \n",
    "            # 과매수 및 과매도 구간\n",
    "            df['Position2'] = np.where(df['Close'] >= df['Upper Band'], 1, df['Position2'])  # 과매수 구간\n",
    "            df['Position3'] = np.where(df['Close'] <= df['Lower Band'], 1, df['Position3'])  # 과매도 구간\n",
    "            \n",
    "            # 매수/매도 신호 업데이트\n",
    "            df['Signal'] = np.where(df['Position2'] == 1, 0, df['Signal'])  # 매도 추천\n",
    "            df['Signal'] = np.where(df['Position3'] == 1, 1, df['Signal'])  # 매수 추천\n",
    "            \n",
    "            # 불필요한 열 제거\n",
    "            columns_to_remove = ['ema_10', 'ema_12', 'ema_26', 'ema_30', 'MACD', 'Signal Line', 'Position']\n",
    "            df = df.drop(columns=columns_to_remove)\n",
    "            \n",
    "            # 다시 NaN 값 제거\n",
    "            df = df.dropna()\n",
    "\n",
    "            \n",
    "\n",
    "            # 특성 벡터와 타겟 벡터 설정\n",
    "            features = df[['Open', 'High', 'Low', 'Close', 'Volume', 'Change']].values\n",
    "            targets = df['Signal'].values\n",
    "\n",
    "            # 데이터 분할 (훈련 데이터와 테스트 데이터)\n",
    "            X_train, X_test, Y_train, Y_test = train_test_split(features, targets, test_size=0.3, shuffle=True, random_state=42,stratify=targets)\n",
    "\n",
    "            # 클래스 가중치 계산\n",
    "            classes = np.unique(Y_train)\n",
    "            class_weights = compute_class_weight(class_weight='balanced', classes=classes, y=Y_train)\n",
    "            class_weight_dict = dict(zip(classes, class_weights))\n",
    "           \n",
    "            # XGBoost 분류 모델 생성 및 학습\n",
    "            model = xgb.XGBClassifier(\n",
    "                objective='multi:softmax',\n",
    "                eval_metric='mlogloss',\n",
    "                learning_rate=0.1,\n",
    "                n_estimators=100,\n",
    "                max_depth=5,\n",
    "                subsample=0.8,\n",
    "                colsample_bytree=0.8,\n",
    "                num_class=3,  # 클래스 수 (매수, 매도, 신호 없음)\n",
    "                random_state=42,\n",
    "                scale_pos_weight=class_weight_dict[1]  # 가중치 설정\n",
    "            )\n",
    "            model.fit(X_train, Y_train)\n",
    "\n",
    "            # 테스트 데이터에 대해 예측 수행\n",
    "            Y_pred = model.predict(X_test)\n",
    "\n",
    "            # 모델 평가\n",
    "            accuracy = accuracy_score(Y_test, Y_pred)\n",
    "            conf_matrix = confusion_matrix(Y_test, Y_pred)\n",
    "            class_report = classification_report(Y_test, Y_pred)\n",
    "\n",
    "            # 모델 저장\n",
    "            model_filename = f'model_{code}.joblib'\n",
    "            joblib.dump(model, model_filename)\n",
    "            models[code] = model_filename\n",
    "\n",
    "            # 결과 출력\n",
    "            print(f\"Model for code {code} saved as {model_filename}\")\n",
    "            print(f\"Accuracy for code {code}: {accuracy}\")\n",
    "            print(f\"Confusion Matrix for code {code}:\\n{conf_matrix}\")\n",
    "            print(f\"Classification Report for code {code}:\\n{class_report}\")\n",
    "\n",
    "    except Exception as e:\n",
    "        print(f\"Error processing code {code}: {e}\")\n"
   ]
  },
  {
   "cell_type": "markdown",
   "id": "ec720720-76af-45f6-a64f-5c4841ac1ea6",
   "metadata": {},
   "source": [
    "#### 코스닥 기업 예측"
   ]
  },
  {
   "cell_type": "code",
   "execution_count": 4,
   "id": "88979912-6a00-4c8e-865b-febc675512cd",
   "metadata": {},
   "outputs": [
    {
     "name": "stdout",
     "output_type": "stream",
     "text": [
      "Available Stock Codes:\n",
      "041190\n",
      "015750\n",
      "215200\n",
      "025980\n",
      "095660\n",
      "215000\n",
      "290650\n",
      "099320\n",
      "006730\n",
      "101160\n",
      "023160\n",
      "013030\n",
      "043150\n",
      "243070\n",
      "297890\n",
      "230360\n",
      "035890\n",
      "045100\n",
      "041830\n",
      "083450\n"
     ]
    },
    {
     "name": "stdin",
     "output_type": "stream",
     "text": [
      "Enter the company code for prediction:  083450\n",
      "Enter Open price:  18490\n",
      "Enter High price:  18560\n",
      "Enter Low price:  18340\n",
      "Enter Close price:  18490\n",
      "Enter Volume:  16315\n",
      "Enter Change:  -0.001620\n"
     ]
    },
    {
     "name": "stdout",
     "output_type": "stream",
     "text": [
      "For company code 083450, the predicted signal is: Model file for code 083450 not found.\n"
     ]
    }
   ],
   "source": [
    "import joblib\n",
    "import numpy as np\n",
    "import pandas as pd\n",
    "\n",
    "def load_model_and_predict(company_code, new_data):\n",
    "    # 기업 코드에 맞는 모델 파일명\n",
    "    model_filename = f'model_{company_code}.joblib'\n",
    "    \n",
    "    try:\n",
    "        # 모델 불러오기\n",
    "        model = joblib.load(model_filename)\n",
    "        \n",
    "        # 예측 수행\n",
    "        predicted_signal = model.predict(new_data)\n",
    "        \n",
    "        # 예측 결과 해석\n",
    "        signal_map = {0: 'Sell', 1: 'Buy', 2: 'No Signal'}\n",
    "        return signal_map[predicted_signal[0]]\n",
    "    \n",
    "    except FileNotFoundError:\n",
    "        return f\"Model file for code {company_code} not found.\"\n",
    "    except Exception as e:\n",
    "        return f\"Error during prediction: {e}\"\n",
    "\n",
    "def display_stock_codes(codes):\n",
    "    print(\"Available Stock Codes:\")\n",
    "    for code in codes:\n",
    "        print(code)\n",
    "\n",
    "def main():\n",
    "    # CSV 파일에서 주식 코드 목록 불러오기\n",
    "    kosdak = pd.read_csv('KOSDAQ_result.csv')\n",
    "    \n",
    "    # 주식 코드 상위 20개만 선택\n",
    "    top_20_stock_codes = kosdak['Code'].astype(str).str.zfill(6).head(20).tolist()\n",
    "    \n",
    "    # 상위 20개의 주식 코드 목록 출력\n",
    "    display_stock_codes(top_20_stock_codes)\n",
    "    \n",
    "    # 사용자로부터 주식 코드 입력 받기\n",
    "    company_code = input(\"Enter the company code for prediction: \").strip()\n",
    "    \n",
    "    if company_code not in top_20_stock_codes:\n",
    "        print(\"Invalid company code. Please enter a valid code from the listed options.\")\n",
    "        return\n",
    "\n",
    "    # 새 데이터 입력 받기\n",
    "    try:\n",
    "        open_price = float(input(\"Enter Open price: \"))\n",
    "        high_price = float(input(\"Enter High price: \"))\n",
    "        low_price = float(input(\"Enter Low price: \"))\n",
    "        close_price = float(input(\"Enter Close price: \"))\n",
    "        volume = float(input(\"Enter Volume: \"))\n",
    "        change = float(input(\"Enter Change: \"))\n",
    "        \n",
    "        # 새 데이터 배열 생성\n",
    "        new_data = np.array([open_price, high_price, low_price, close_price, volume, change]).reshape(1, -1)\n",
    "        \n",
    "        # 예측 수행\n",
    "        result = load_model_and_predict(company_code, new_data)\n",
    "        print(f'For company code {company_code}, the predicted signal is: {result}')\n",
    "    \n",
    "    except ValueError:\n",
    "        print(\"Invalid input. Please enter numerical values for the data.\")\n",
    "\n",
    "if __name__ == \"__main__\":\n",
    "    main()\n"
   ]
  },
  {
   "cell_type": "code",
   "execution_count": null,
   "id": "ae5ce578-a92d-440e-a9ac-9972fa038874",
   "metadata": {},
   "outputs": [],
   "source": [
    "18490, 18560, 18340, 18490, 16315, -0.001620"
   ]
  }
 ],
 "metadata": {
  "kernelspec": {
   "display_name": "Python 3 (ipykernel)",
   "language": "python",
   "name": "python3"
  },
  "language_info": {
   "codemirror_mode": {
    "name": "ipython",
    "version": 3
   },
   "file_extension": ".py",
   "mimetype": "text/x-python",
   "name": "python",
   "nbconvert_exporter": "python",
   "pygments_lexer": "ipython3",
   "version": "3.11.7"
  }
 },
 "nbformat": 4,
 "nbformat_minor": 5
}
